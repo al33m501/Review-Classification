{
  "nbformat": 4,
  "nbformat_minor": 0,
  "metadata": {
    "colab": {
      "name": "dataset_project.ipynb",
      "provenance": []
    },
    "kernelspec": {
      "name": "python3",
      "display_name": "Python 3"
    },
    "language_info": {
      "name": "python"
    }
  },
  "cells": [
    {
      "cell_type": "markdown",
      "metadata": {
        "id": "c46Yvqww1gzR"
      },
      "source": [
        "## Сбор датасета"
      ]
    },
    {
      "cell_type": "code",
      "metadata": {
        "colab": {
          "base_uri": "https://localhost:8080/"
        },
        "id": "TQgUZi291KBE",
        "outputId": "ccdee156-c827-4e17-f577-ddb113dbe3e5"
      },
      "source": [
        "import requests\n",
        "from bs4 import BeautifulSoup\n",
        "import pandas as pd\n",
        "import numpy as np\n",
        "from time import sleep\n",
        "import matplotlib.pyplot as plt\n",
        "%matplotlib inline\n",
        "import seaborn as sns\n",
        "from sklearn.preprocessing import LabelEncoder\n",
        "import re\n",
        "import string\n",
        "from sklearn.feature_extraction.text  import TfidfVectorizer\n",
        "from sklearn.metrics  import f1_score, accuracy_score\n",
        "from sklearn.metrics import  confusion_matrix\n",
        "from sklearn.model_selection import cross_val_score\n",
        "from sklearn.model_selection import train_test_split\n",
        "from imblearn.over_sampling import ADASYN\n",
        "from sklearn.ensemble import RandomForestClassifier\n",
        "from sklearn.naive_bayes import MultinomialNB\n",
        "from sklearn.tree import DecisionTreeClassifier\n",
        "from sklearn.neighbors import KNeighborsClassifier \n",
        "from sklearn.linear_model import LogisticRegression\n",
        "from sklearn.metrics import classification_report\n",
        "from sklearn.linear_model import SGDClassifier\n",
        "from sklearn import metrics\n",
        "from sklearn.preprocessing import LabelEncoder\n",
        "from sklearn.base import clone\n",
        "from sklearn.model_selection import cross_validate\n",
        "from scipy import interp\n",
        "from sklearn.metrics import roc_curve, auc \n",
        "import warnings\n",
        "warnings.filterwarnings(\"ignore\")"
      ],
      "execution_count": null,
      "outputs": [
        {
          "output_type": "stream",
          "text": [
            "/usr/local/lib/python3.7/dist-packages/sklearn/externals/six.py:31: FutureWarning: The module is deprecated in version 0.21 and will be removed in version 0.23 since we've dropped support for Python 2.7. Please rely on the official version of six (https://pypi.org/project/six/).\n",
            "  \"(https://pypi.org/project/six/).\", FutureWarning)\n",
            "/usr/local/lib/python3.7/dist-packages/sklearn/utils/deprecation.py:144: FutureWarning: The sklearn.neighbors.base module is  deprecated in version 0.22 and will be removed in version 0.24. The corresponding classes / functions should instead be imported from sklearn.neighbors. Anything that cannot be imported from sklearn.neighbors is now part of the private API.\n",
            "  warnings.warn(message, FutureWarning)\n"
          ],
          "name": "stderr"
        }
      ]
    },
    {
      "cell_type": "code",
      "metadata": {
        "id": "5SIydqKl1kdu"
      },
      "source": [
        "def parse_product(product, bank='tcs', page_limit=100):\n",
        "  '''\n",
        "  Downloads (RSHB bank) reviews  about needed product\n",
        "  return DataFrame with columns:\n",
        "  time, product, title, full_text, mark\n",
        "  '''\n",
        "  base_url = f'https://www.banki.ru/services/responses/bank/{bank}/product/{product}/'\n",
        "  r = requests.get(base_url)\n",
        "  soup = BeautifulSoup(r.text)\n",
        "  pages = soup.find('div', {'data-test': 'folkrating-responses-list-comments-pagination'}).get('data-options')\n",
        "  cur_page, items_per_page, all_items = [int(s.rstrip(';')) for s in pages.split() if s.rstrip(';').isdigit()]\n",
        "  last_page_items = all_items % items_per_page\n",
        "  num_pages = all_items // items_per_page + bool(last_page_items)\n",
        "  data_df = []\n",
        "  for page in range(1, num_pages+1):\n",
        "    if page > page_limit:\n",
        "      continue\n",
        "    sleep(2)\n",
        "    url = f'{base_url}?page={page}'\n",
        "    r_temp = None\n",
        "    while r_temp is None:\n",
        "      try:\n",
        "        r_temp = requests.get(url)\n",
        "      except OSError:\n",
        "        sleep(10)\n",
        "    r = r_temp\n",
        "    print(f'page {page}/{num_pages} scrapped succesfully')\n",
        "    soup = BeautifulSoup(r.text)\n",
        "    articles = soup.find_all('article', {'class': 'responses__item'})\n",
        "    if page != num_pages:\n",
        "      n_articles = items_per_page\n",
        "    else:\n",
        "      n_articles = last_page_items\n",
        "    for article in range(n_articles):\n",
        "      time = articles[article].find('time', {'class': 'display-inline-block'}).text.strip()\n",
        "      title = articles[article].div.text\n",
        "      full_text = articles[article].find('div', \\\n",
        "                              {'class': 'responses__item__message markup-inside-small markup-inside-small--bullet'})\n",
        "      full_text = full_text.text.strip()\n",
        "      mark = articles[article].find('div', \n",
        "      {'class': 'flexbox flexbox--inline flexbox--row flexbox--gap_xsmall flexbox--align-items_baseline'}).text.strip()\n",
        "      new_row = {'time':time, 'product':product, 'title':title, 'full_text':full_text, 'mark':mark}\n",
        "      data_df.append(new_row)\n",
        "\n",
        "  df = pd.DataFrame(data_df)\n",
        "  return df"
      ],
      "execution_count": null,
      "outputs": []
    },
    {
      "cell_type": "markdown",
      "metadata": {
        "id": "5IAiCRLc1ybF"
      },
      "source": [
        "\n",
        "Таблица соответствий названий классов (видов услуг) и части ссылки product: \n",
        "*   Дебетовая карта - **debitcards**\n",
        "*   Ипотека - **hypothec**\n",
        "*   Дистанционное обслуживание физ. лиц - **remote**\n",
        "*   Дистанционное обслуживание юр. лиц - **business_remote**\n",
        "*   Обслуживание юр. лиц - **corporate**"
      ]
    },
    {
      "cell_type": "markdown",
      "metadata": {
        "id": "sMzx_53w2Ab0"
      },
      "source": [
        "\n",
        "Код ниже загружает необходимые виды услуг и сохраняет в csv, из-за ограничений сайта Банки.ру загрузка занимает более 10 минут"
      ]
    },
    {
      "cell_type": "code",
      "metadata": {
        "id": "L83NfGWt1m3t"
      },
      "source": [
        "debitcards = parse_product(product='debitcards')\n",
        "hypothec = parse_product(product='hypothec')\n",
        "remote = parse_product(product='remote')\n",
        "business_remote = parse_product(product='business_remote')\n",
        "corporate = parse_product(product='corporate')\n",
        "\n",
        "\n",
        "\n",
        "debitcards.to_csv('debitcards.csv', sep='\\t')\n",
        "hypothec.to_csv('hypothec.csv', sep='\\t')\n",
        "remote.to_csv('remote.csv', sep='\\t')\n",
        "business_remote.to_csv('business_remote.csv', sep='\\t')\n",
        "corporate.to_csv('corporate.csv', sep='\\t')"
      ],
      "execution_count": null,
      "outputs": []
    },
    {
      "cell_type": "code",
      "metadata": {
        "colab": {
          "base_uri": "https://localhost:8080/",
          "height": 419
        },
        "id": "5CBU1b_x2MLT",
        "outputId": "a9124e02-3d68-47f3-e5cd-efcdc735467c"
      },
      "source": [
        "all = [debitcards, hypothec, remote, business_remote, corporate]\n",
        "alldf = pd.concat(all)\n",
        "alldf"
      ],
      "execution_count": null,
      "outputs": [
        {
          "output_type": "execute_result",
          "data": {
            "text/html": [
              "<div>\n",
              "<style scoped>\n",
              "    .dataframe tbody tr th:only-of-type {\n",
              "        vertical-align: middle;\n",
              "    }\n",
              "\n",
              "    .dataframe tbody tr th {\n",
              "        vertical-align: top;\n",
              "    }\n",
              "\n",
              "    .dataframe thead th {\n",
              "        text-align: right;\n",
              "    }\n",
              "</style>\n",
              "<table border=\"1\" class=\"dataframe\">\n",
              "  <thead>\n",
              "    <tr style=\"text-align: right;\">\n",
              "      <th></th>\n",
              "      <th>time</th>\n",
              "      <th>product</th>\n",
              "      <th>title</th>\n",
              "      <th>full_text</th>\n",
              "      <th>mark</th>\n",
              "    </tr>\n",
              "  </thead>\n",
              "  <tbody>\n",
              "    <tr>\n",
              "      <th>0</th>\n",
              "      <td>15.06.2021 9:28</td>\n",
              "      <td>debitcards</td>\n",
              "      <td>\\nГорячая линия (не мог войти в приложение)\\n</td>\n",
              "      <td>Сегодня впервые воспользовался горячей линией ...</td>\n",
              "      <td>Оценка:\\n\\n\\t\\t\\t5\\n\\t\\t\\n\\n\\t\\t\\t\\t\\t\\t\\tПров...</td>\n",
              "    </tr>\n",
              "    <tr>\n",
              "      <th>1</th>\n",
              "      <td>15.06.2021 9:23</td>\n",
              "      <td>debitcards</td>\n",
              "      <td>\\nСАМЫЙ НЕБЕЗОПАСНЫЙ БАНК!!\\n</td>\n",
              "      <td>Тинькофф заморозили счета до 5 июля .Служба бе...</td>\n",
              "      <td>Оценка:\\n\\n\\t\\t\\t1\\n\\t\\t\\n\\n\\t\\t\\t\\t\\t\\t\\tПров...</td>\n",
              "    </tr>\n",
              "    <tr>\n",
              "      <th>2</th>\n",
              "      <td>15.06.2021 8:58</td>\n",
              "      <td>debitcards</td>\n",
              "      <td>\\nБыл вход с другого устройства. Списали деньг...</td>\n",
              "      <td>Пользовался другим банком до этого таких пробл...</td>\n",
              "      <td>Оценка:\\n\\n\\t\\t\\t1\\n\\t\\t\\n\\n\\t\\t\\t\\t\\t\\t\\tПров...</td>\n",
              "    </tr>\n",
              "    <tr>\n",
              "      <th>3</th>\n",
              "      <td>15.06.2021 8:57</td>\n",
              "      <td>debitcards</td>\n",
              "      <td>\\nБанк дорожит своими клиентами\\n</td>\n",
              "      <td>Я пенсионер, возраст 60+.  Пользуюсь только бе...</td>\n",
              "      <td>Оценка:\\n\\n\\t\\t\\t5\\n\\t\\t\\n\\n\\t\\t\\t\\t\\t\\t\\tПров...</td>\n",
              "    </tr>\n",
              "    <tr>\n",
              "      <th>4</th>\n",
              "      <td>15.06.2021 8:50</td>\n",
              "      <td>debitcards</td>\n",
              "      <td>\\nПрекрасный банк, который не стыдно посоветов...</td>\n",
              "      <td>Знакомство с банком у меня началось с того, чт...</td>\n",
              "      <td>Оценка:\\n\\n\\t\\t\\t5\\n\\t\\t\\n\\n\\t\\t\\t\\t\\t\\t\\tПров...</td>\n",
              "    </tr>\n",
              "    <tr>\n",
              "      <th>...</th>\n",
              "      <td>...</td>\n",
              "      <td>...</td>\n",
              "      <td>...</td>\n",
              "      <td>...</td>\n",
              "      <td>...</td>\n",
              "    </tr>\n",
              "    <tr>\n",
              "      <th>2042</th>\n",
              "      <td>26.05.2015 23:53</td>\n",
              "      <td>corporate</td>\n",
              "      <td>\\nНеуважительное отношение\\n</td>\n",
              "      <td>Много слышал историй про Банк Тинькофф, хороши...</td>\n",
              "      <td>Без оценки</td>\n",
              "    </tr>\n",
              "    <tr>\n",
              "      <th>2043</th>\n",
              "      <td>20.05.2015 19:24</td>\n",
              "      <td>corporate</td>\n",
              "      <td>\\nТы мог был быть хорошим другом...\\n</td>\n",
              "      <td>Предисловие.Были чудные времена когда банком и...</td>\n",
              "      <td>Оценка:\\n\\n\\t\\t\\t3\\n\\t\\t\\n\\n\\nПроблема решена</td>\n",
              "    </tr>\n",
              "    <tr>\n",
              "      <th>2044</th>\n",
              "      <td>19.05.2015 13:21</td>\n",
              "      <td>corporate</td>\n",
              "      <td>\\nРекламный спам\\n</td>\n",
              "      <td>Банк занимается рекламным спамом. Звонят и пре...</td>\n",
              "      <td>Без оценки</td>\n",
              "    </tr>\n",
              "    <tr>\n",
              "      <th>2045</th>\n",
              "      <td>20.08.2014 16:54</td>\n",
              "      <td>corporate</td>\n",
              "      <td>\\nМучения с банком ТКС, ужасная оперативность....</td>\n",
              "      <td>Мне лично нравится Тиньков, я смотрел передачи...</td>\n",
              "      <td>Без оценки</td>\n",
              "    </tr>\n",
              "    <tr>\n",
              "      <th>2046</th>\n",
              "      <td>26.01.2013 23:07</td>\n",
              "      <td>corporate</td>\n",
              "      <td>\\nКупивкредит - бренд Банка Тиникофф. Не испол...</td>\n",
              "      <td>Если честно, не знаю, имею ли право писать в э...</td>\n",
              "      <td>Оценка:\\n\\n\\t\\t\\t1</td>\n",
              "    </tr>\n",
              "  </tbody>\n",
              "</table>\n",
              "<p>9764 rows × 5 columns</p>\n",
              "</div>"
            ],
            "text/plain": [
              "                  time  ...                                               mark\n",
              "0      15.06.2021 9:28  ...  Оценка:\\n\\n\\t\\t\\t5\\n\\t\\t\\n\\n\\t\\t\\t\\t\\t\\t\\tПров...\n",
              "1      15.06.2021 9:23  ...  Оценка:\\n\\n\\t\\t\\t1\\n\\t\\t\\n\\n\\t\\t\\t\\t\\t\\t\\tПров...\n",
              "2      15.06.2021 8:58  ...  Оценка:\\n\\n\\t\\t\\t1\\n\\t\\t\\n\\n\\t\\t\\t\\t\\t\\t\\tПров...\n",
              "3      15.06.2021 8:57  ...  Оценка:\\n\\n\\t\\t\\t5\\n\\t\\t\\n\\n\\t\\t\\t\\t\\t\\t\\tПров...\n",
              "4      15.06.2021 8:50  ...  Оценка:\\n\\n\\t\\t\\t5\\n\\t\\t\\n\\n\\t\\t\\t\\t\\t\\t\\tПров...\n",
              "...                ...  ...                                                ...\n",
              "2042  26.05.2015 23:53  ...                                         Без оценки\n",
              "2043  20.05.2015 19:24  ...      Оценка:\\n\\n\\t\\t\\t3\\n\\t\\t\\n\\n\\nПроблема решена\n",
              "2044  19.05.2015 13:21  ...                                         Без оценки\n",
              "2045  20.08.2014 16:54  ...                                         Без оценки\n",
              "2046  26.01.2013 23:07  ...                                 Оценка:\\n\\n\\t\\t\\t1\n",
              "\n",
              "[9764 rows x 5 columns]"
            ]
          },
          "metadata": {
            "tags": []
          },
          "execution_count": 8
        }
      ]
    },
    {
      "cell_type": "code",
      "metadata": {
        "colab": {
          "base_uri": "https://localhost:8080/"
        },
        "id": "Zy-uTS2mkO6u",
        "outputId": "3fa42bef-146e-409f-faee-c7d16655d2c7"
      },
      "source": [
        "alldf.shape"
      ],
      "execution_count": null,
      "outputs": [
        {
          "output_type": "execute_result",
          "data": {
            "text/plain": [
              "(9764, 5)"
            ]
          },
          "metadata": {
            "tags": []
          },
          "execution_count": 9
        }
      ]
    },
    {
      "cell_type": "code",
      "metadata": {
        "id": "NbirkPIzkUKR"
      },
      "source": [
        "alldf.to_csv('alldf.csv', sep='\\t')"
      ],
      "execution_count": null,
      "outputs": []
    }
  ]
}