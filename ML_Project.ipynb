{
  "nbformat": 4,
  "nbformat_minor": 0,
  "metadata": {
    "colab": {
      "name": "Emil_Enikeev_ML_Project.ipynb",
      "provenance": []
    },
    "kernelspec": {
      "name": "python3",
      "display_name": "Python 3"
    },
    "language_info": {
      "name": "python"
    }
  },
  "cells": [
    {
      "cell_type": "markdown",
      "metadata": {
        "id": "JSp4MX3fmxsR"
      },
      "source": [
        "# Постановка задачи\n",
        "\n",
        "Классификация отзывов о банке по категориям (ипотека, дебетовые карты, обслуживание юр лиц и т.д.)\n",
        "\n",
        "Области применения результатов работы будут обозначены в заключительной части\n",
        "\n",
        "\n",
        "Датасет собирался с сайта Banki ru самостоятельно, ноутбук со скрапингом доступен по [ссылке](https://colab.research.google.com/drive/15O5DF4R8ZTIE8m7XwCr0RyTdP4wgQqcT?usp=sharing) \n",
        "\n",
        "\n",
        "Обращаю внимание, что данную функцию можно переиспользовать, выбирать любой банк, любые категории, ограничивать количество загружаемых страниц с отзывами. Для примера был выбран банк Тинькофф"
      ]
    },
    {
      "cell_type": "markdown",
      "metadata": {
        "id": "uKunVF4qpmbu"
      },
      "source": [
        "# Предварительная обработка"
      ]
    },
    {
      "cell_type": "code",
      "metadata": {
        "colab": {
          "base_uri": "https://localhost:8080/"
        },
        "id": "od-NyE_eo8mV",
        "outputId": "63dfdf4b-f8c7-4a79-dd1b-ee72d4d1c38b"
      },
      "source": [
        "import numpy as np\n",
        "import pandas as pd\n",
        "import re\n",
        "import gc\n",
        "import os\n",
        "import fileinput\n",
        "import string\n",
        "import tensorflow as tf\n",
        "import zipfile\n",
        "import datetime\n",
        "import sys\n",
        "from tqdm  import tqdm\n",
        "tqdm.pandas()\n",
        "from nltk.tokenize import wordpunct_tokenize\n",
        "from nltk.corpus import stopwords\n",
        "from nltk.stem.snowball import SnowballStemmer\n",
        "from sklearn.feature_extraction.text import CountVectorizer\n",
        "from sklearn.preprocessing import LabelEncoder\n",
        "from sklearn.metrics import accuracy_score\n",
        "from sklearn.metrics import f1_score, roc_auc_score\n",
        "\n",
        "from keras.preprocessing.text import Tokenizer\n",
        "from keras.preprocessing.sequence import pad_sequences\n",
        "from keras.models import Sequential\n",
        "from keras.layers import Dense, Flatten, LSTM, Conv1D, MaxPooling1D, Dropout, Activation\n",
        "from keras.layers.embeddings import Embedding\n",
        "from sklearn.metrics import classification_report"
      ],
      "execution_count": null,
      "outputs": [
        {
          "output_type": "stream",
          "text": [
            "/usr/local/lib/python3.7/dist-packages/tqdm/std.py:658: FutureWarning: The Panel class is removed from pandas. Accessing it from the top-level namespace will also be removed in the next version\n",
            "  from pandas import Panel\n"
          ],
          "name": "stderr"
        }
      ]
    },
    {
      "cell_type": "markdown",
      "metadata": {
        "id": "a0mAu6aipO7K"
      },
      "source": [
        "Так как на сбор датасет требуется более 10 минут, я выгрузил его на свой dropbox для экономии времени"
      ]
    },
    {
      "cell_type": "code",
      "metadata": {
        "colab": {
          "base_uri": "https://localhost:8080/",
          "height": 589
        },
        "id": "qmPDsOLdpK4i",
        "outputId": "0cfecd78-10a3-4e05-bba2-b2d578764bfe"
      },
      "source": [
        "df = pd.read_csv('https://dl.dropbox.com/s/fe3mpksl9eij9kn/alldf.csv', sep='\\t')\n",
        "df"
      ],
      "execution_count": null,
      "outputs": [
        {
          "output_type": "execute_result",
          "data": {
            "text/html": [
              "<div>\n",
              "<style scoped>\n",
              "    .dataframe tbody tr th:only-of-type {\n",
              "        vertical-align: middle;\n",
              "    }\n",
              "\n",
              "    .dataframe tbody tr th {\n",
              "        vertical-align: top;\n",
              "    }\n",
              "\n",
              "    .dataframe thead th {\n",
              "        text-align: right;\n",
              "    }\n",
              "</style>\n",
              "<table border=\"1\" class=\"dataframe\">\n",
              "  <thead>\n",
              "    <tr style=\"text-align: right;\">\n",
              "      <th></th>\n",
              "      <th>Unnamed: 0</th>\n",
              "      <th>time</th>\n",
              "      <th>product</th>\n",
              "      <th>title</th>\n",
              "      <th>full_text</th>\n",
              "      <th>mark</th>\n",
              "    </tr>\n",
              "  </thead>\n",
              "  <tbody>\n",
              "    <tr>\n",
              "      <th>0</th>\n",
              "      <td>0</td>\n",
              "      <td>15.06.2021 9:28</td>\n",
              "      <td>debitcards</td>\n",
              "      <td>\\nГорячая линия (не мог войти в приложение)\\n</td>\n",
              "      <td>Сегодня впервые воспользовался горячей линией ...</td>\n",
              "      <td>Оценка:\\n\\n\\t\\t\\t5\\n\\t\\t\\n\\n\\t\\t\\t\\t\\t\\t\\tПров...</td>\n",
              "    </tr>\n",
              "    <tr>\n",
              "      <th>1</th>\n",
              "      <td>1</td>\n",
              "      <td>15.06.2021 9:23</td>\n",
              "      <td>debitcards</td>\n",
              "      <td>\\nСАМЫЙ НЕБЕЗОПАСНЫЙ БАНК!!\\n</td>\n",
              "      <td>Тинькофф заморозили счета до 5 июля .Служба бе...</td>\n",
              "      <td>Оценка:\\n\\n\\t\\t\\t1\\n\\t\\t\\n\\n\\t\\t\\t\\t\\t\\t\\tПров...</td>\n",
              "    </tr>\n",
              "    <tr>\n",
              "      <th>2</th>\n",
              "      <td>2</td>\n",
              "      <td>15.06.2021 8:58</td>\n",
              "      <td>debitcards</td>\n",
              "      <td>\\nБыл вход с другого устройства. Списали деньг...</td>\n",
              "      <td>Пользовался другим банком до этого таких пробл...</td>\n",
              "      <td>Оценка:\\n\\n\\t\\t\\t1\\n\\t\\t\\n\\n\\t\\t\\t\\t\\t\\t\\tПров...</td>\n",
              "    </tr>\n",
              "    <tr>\n",
              "      <th>3</th>\n",
              "      <td>3</td>\n",
              "      <td>15.06.2021 8:57</td>\n",
              "      <td>debitcards</td>\n",
              "      <td>\\nБанк дорожит своими клиентами\\n</td>\n",
              "      <td>Я пенсионер, возраст 60+.  Пользуюсь только бе...</td>\n",
              "      <td>Оценка:\\n\\n\\t\\t\\t5\\n\\t\\t\\n\\n\\t\\t\\t\\t\\t\\t\\tПров...</td>\n",
              "    </tr>\n",
              "    <tr>\n",
              "      <th>4</th>\n",
              "      <td>4</td>\n",
              "      <td>15.06.2021 8:50</td>\n",
              "      <td>debitcards</td>\n",
              "      <td>\\nПрекрасный банк, который не стыдно посоветов...</td>\n",
              "      <td>Знакомство с банком у меня началось с того, чт...</td>\n",
              "      <td>Оценка:\\n\\n\\t\\t\\t5\\n\\t\\t\\n\\n\\t\\t\\t\\t\\t\\t\\tПров...</td>\n",
              "    </tr>\n",
              "    <tr>\n",
              "      <th>...</th>\n",
              "      <td>...</td>\n",
              "      <td>...</td>\n",
              "      <td>...</td>\n",
              "      <td>...</td>\n",
              "      <td>...</td>\n",
              "      <td>...</td>\n",
              "    </tr>\n",
              "    <tr>\n",
              "      <th>9759</th>\n",
              "      <td>2042</td>\n",
              "      <td>26.05.2015 23:53</td>\n",
              "      <td>corporate</td>\n",
              "      <td>\\nНеуважительное отношение\\n</td>\n",
              "      <td>Много слышал историй про Банк Тинькофф, хороши...</td>\n",
              "      <td>Без оценки</td>\n",
              "    </tr>\n",
              "    <tr>\n",
              "      <th>9760</th>\n",
              "      <td>2043</td>\n",
              "      <td>20.05.2015 19:24</td>\n",
              "      <td>corporate</td>\n",
              "      <td>\\nТы мог был быть хорошим другом...\\n</td>\n",
              "      <td>Предисловие.Были чудные времена когда банком и...</td>\n",
              "      <td>Оценка:\\n\\n\\t\\t\\t3\\n\\t\\t\\n\\n\\nПроблема решена</td>\n",
              "    </tr>\n",
              "    <tr>\n",
              "      <th>9761</th>\n",
              "      <td>2044</td>\n",
              "      <td>19.05.2015 13:21</td>\n",
              "      <td>corporate</td>\n",
              "      <td>\\nРекламный спам\\n</td>\n",
              "      <td>Банк занимается рекламным спамом. Звонят и пре...</td>\n",
              "      <td>Без оценки</td>\n",
              "    </tr>\n",
              "    <tr>\n",
              "      <th>9762</th>\n",
              "      <td>2045</td>\n",
              "      <td>20.08.2014 16:54</td>\n",
              "      <td>corporate</td>\n",
              "      <td>\\nМучения с банком ТКС, ужасная оперативность....</td>\n",
              "      <td>Мне лично нравится Тиньков, я смотрел передачи...</td>\n",
              "      <td>Без оценки</td>\n",
              "    </tr>\n",
              "    <tr>\n",
              "      <th>9763</th>\n",
              "      <td>2046</td>\n",
              "      <td>26.01.2013 23:07</td>\n",
              "      <td>corporate</td>\n",
              "      <td>\\nКупивкредит - бренд Банка Тиникофф. Не испол...</td>\n",
              "      <td>Если честно, не знаю, имею ли право писать в э...</td>\n",
              "      <td>Оценка:\\n\\n\\t\\t\\t1</td>\n",
              "    </tr>\n",
              "  </tbody>\n",
              "</table>\n",
              "<p>9764 rows × 6 columns</p>\n",
              "</div>"
            ],
            "text/plain": [
              "      Unnamed: 0  ...                                               mark\n",
              "0              0  ...  Оценка:\\n\\n\\t\\t\\t5\\n\\t\\t\\n\\n\\t\\t\\t\\t\\t\\t\\tПров...\n",
              "1              1  ...  Оценка:\\n\\n\\t\\t\\t1\\n\\t\\t\\n\\n\\t\\t\\t\\t\\t\\t\\tПров...\n",
              "2              2  ...  Оценка:\\n\\n\\t\\t\\t1\\n\\t\\t\\n\\n\\t\\t\\t\\t\\t\\t\\tПров...\n",
              "3              3  ...  Оценка:\\n\\n\\t\\t\\t5\\n\\t\\t\\n\\n\\t\\t\\t\\t\\t\\t\\tПров...\n",
              "4              4  ...  Оценка:\\n\\n\\t\\t\\t5\\n\\t\\t\\n\\n\\t\\t\\t\\t\\t\\t\\tПров...\n",
              "...          ...  ...                                                ...\n",
              "9759        2042  ...                                         Без оценки\n",
              "9760        2043  ...      Оценка:\\n\\n\\t\\t\\t3\\n\\t\\t\\n\\n\\nПроблема решена\n",
              "9761        2044  ...                                         Без оценки\n",
              "9762        2045  ...                                         Без оценки\n",
              "9763        2046  ...                                 Оценка:\\n\\n\\t\\t\\t1\n",
              "\n",
              "[9764 rows x 6 columns]"
            ]
          },
          "metadata": {
            "tags": []
          },
          "execution_count": 2
        }
      ]
    },
    {
      "cell_type": "code",
      "metadata": {
        "id": "U9QJH3ojm0ml"
      },
      "source": [
        "def normalise_text (text):\n",
        "    text = text.str.lower() # lowercase\n",
        "    text = text.str.replace(r\"\\#\",\"\") # replaces hashtags\n",
        "    text = text.str.replace(r\"http\\S+\",\"URL\")  # remove URL addresses\n",
        "    text = text.str.replace(r\"@\",\"\")\n",
        "    text = text.str.replace(\"\\s{2,}\", \" \")\n",
        "    return text"
      ],
      "execution_count": null,
      "outputs": []
    },
    {
      "cell_type": "code",
      "metadata": {
        "id": "Yg5uqX3Cp6uA"
      },
      "source": [
        "df[\"full_text\"]=normalise_text(df[\"full_text\"])"
      ],
      "execution_count": null,
      "outputs": []
    },
    {
      "cell_type": "code",
      "metadata": {
        "id": "OykQtQ1jp-ie"
      },
      "source": [
        "df = df.sample(frac=1, random_state=1).reset_index(drop=True)"
      ],
      "execution_count": null,
      "outputs": []
    },
    {
      "cell_type": "markdown",
      "metadata": {
        "id": "3wRwlUBqqkWG"
      },
      "source": [
        "**Примечание**: для задачи классификации отзывов по категориям обработанные ниже данные по оценкам не пригодились. Однако это может потребоваться в будущем, при улучшении моделей\n",
        "\n",
        "Новый cуррогатный признак - столбец **checked** засчитана ли оценка после проверки модераторами:\n",
        "*   -1 (оценка Не засчитана)\n",
        "*   0 (оценка Не проверена или отсутствует)\n",
        "*   1 (оценка Проверена и засчитана)\n",
        "*   2 (проблема решена)"
      ]
    },
    {
      "cell_type": "code",
      "metadata": {
        "id": "F1W06_IeqDyX"
      },
      "source": [
        "def f_checked(row):\n",
        "  if 'Не засчитана' in row['mark']:\n",
        "    val = -1\n",
        "  elif ('Проверяется' in row['mark']) or ('Без оценки' in row['mark']):\n",
        "    val = 0\n",
        "  elif 'Проблема решена' in row['mark']:\n",
        "    val = 2\n",
        "  else:\n",
        "    val = 1\n",
        "  return val\n",
        "\n",
        "df['checked'] = df.apply(f_checked, axis=1)"
      ],
      "execution_count": null,
      "outputs": []
    },
    {
      "cell_type": "markdown",
      "metadata": {
        "id": "E4GUUm-wqvRn"
      },
      "source": [
        "Также выделим оценку из столбца mark"
      ]
    },
    {
      "cell_type": "code",
      "metadata": {
        "id": "KFh3Nw0VqrOT"
      },
      "source": [
        "def mark_clean(row):\n",
        "  if 'Без оценки' in row['mark']:\n",
        "    val = -1\n",
        "  elif '1' in row['mark']:\n",
        "    val = 1\n",
        "  elif '2' in row['mark']:\n",
        "    val = 2\n",
        "  elif '3' in row['mark']:\n",
        "    val = 3\n",
        "  elif '4' in row['mark']:\n",
        "    val = 4\n",
        "  elif '5' in row['mark']:\n",
        "    val = 5\n",
        "  return val\n",
        "\n",
        "df['mark'] = df.apply(mark_clean, axis=1)"
      ],
      "execution_count": null,
      "outputs": []
    },
    {
      "cell_type": "code",
      "metadata": {
        "colab": {
          "base_uri": "https://localhost:8080/",
          "height": 419
        },
        "id": "8b988B9eqy2K",
        "outputId": "57eda4a1-e17f-423a-de19-859b686c136f"
      },
      "source": [
        "df.drop(['Unnamed: 0', 'time', 'title'], axis=1, inplace=True)\n",
        "df.columns = ['Label', 'Text', 'Mark', 'Checked']\n",
        "df"
      ],
      "execution_count": null,
      "outputs": [
        {
          "output_type": "execute_result",
          "data": {
            "text/html": [
              "<div>\n",
              "<style scoped>\n",
              "    .dataframe tbody tr th:only-of-type {\n",
              "        vertical-align: middle;\n",
              "    }\n",
              "\n",
              "    .dataframe tbody tr th {\n",
              "        vertical-align: top;\n",
              "    }\n",
              "\n",
              "    .dataframe thead th {\n",
              "        text-align: right;\n",
              "    }\n",
              "</style>\n",
              "<table border=\"1\" class=\"dataframe\">\n",
              "  <thead>\n",
              "    <tr style=\"text-align: right;\">\n",
              "      <th></th>\n",
              "      <th>Label</th>\n",
              "      <th>Text</th>\n",
              "      <th>Mark</th>\n",
              "      <th>Checked</th>\n",
              "    </tr>\n",
              "  </thead>\n",
              "  <tbody>\n",
              "    <tr>\n",
              "      <th>0</th>\n",
              "      <td>remote</td>\n",
              "      <td>добрый день! много раз пополнял до этого карту...</td>\n",
              "      <td>1</td>\n",
              "      <td>1</td>\n",
              "    </tr>\n",
              "    <tr>\n",
              "      <th>1</th>\n",
              "      <td>corporate</td>\n",
              "      <td>хотел бы оставить отзыв о самом удобном банке....</td>\n",
              "      <td>5</td>\n",
              "      <td>-1</td>\n",
              "    </tr>\n",
              "    <tr>\n",
              "      <th>2</th>\n",
              "      <td>corporate</td>\n",
              "      <td>прошу обратить внимание на нашу проблему.у нас...</td>\n",
              "      <td>2</td>\n",
              "      <td>-1</td>\n",
              "    </tr>\n",
              "    <tr>\n",
              "      <th>3</th>\n",
              "      <td>business_remote</td>\n",
              "      <td>пользуюсь банком как ип, получаю платежи от ин...</td>\n",
              "      <td>2</td>\n",
              "      <td>1</td>\n",
              "    </tr>\n",
              "    <tr>\n",
              "      <th>4</th>\n",
              "      <td>remote</td>\n",
              "      <td>являюсь клиентом тинькофф банка с ноября 2019 ...</td>\n",
              "      <td>5</td>\n",
              "      <td>1</td>\n",
              "    </tr>\n",
              "    <tr>\n",
              "      <th>...</th>\n",
              "      <td>...</td>\n",
              "      <td>...</td>\n",
              "      <td>...</td>\n",
              "      <td>...</td>\n",
              "    </tr>\n",
              "    <tr>\n",
              "      <th>9759</th>\n",
              "      <td>hypothec</td>\n",
              "      <td>добрый день. меня зовут лидия, я риэлтор в дан...</td>\n",
              "      <td>5</td>\n",
              "      <td>-1</td>\n",
              "    </tr>\n",
              "    <tr>\n",
              "      <th>9760</th>\n",
              "      <td>corporate</td>\n",
              "      <td>открыли расчётный счет в этом банке для торгов...</td>\n",
              "      <td>-1</td>\n",
              "      <td>0</td>\n",
              "    </tr>\n",
              "    <tr>\n",
              "      <th>9761</th>\n",
              "      <td>debitcards</td>\n",
              "      <td>хочу оставить отзыв о работе с клиентами в тин...</td>\n",
              "      <td>4</td>\n",
              "      <td>1</td>\n",
              "    </tr>\n",
              "    <tr>\n",
              "      <th>9762</th>\n",
              "      <td>remote</td>\n",
              "      <td>здравствуйте! если вы госслужащий, или хотите ...</td>\n",
              "      <td>1</td>\n",
              "      <td>2</td>\n",
              "    </tr>\n",
              "    <tr>\n",
              "      <th>9763</th>\n",
              "      <td>debitcards</td>\n",
              "      <td>долгое, даже очень долго время был клиентом др...</td>\n",
              "      <td>5</td>\n",
              "      <td>0</td>\n",
              "    </tr>\n",
              "  </tbody>\n",
              "</table>\n",
              "<p>9764 rows × 4 columns</p>\n",
              "</div>"
            ],
            "text/plain": [
              "                Label  ... Checked\n",
              "0              remote  ...       1\n",
              "1           corporate  ...      -1\n",
              "2           corporate  ...      -1\n",
              "3     business_remote  ...       1\n",
              "4              remote  ...       1\n",
              "...               ...  ...     ...\n",
              "9759         hypothec  ...      -1\n",
              "9760        corporate  ...       0\n",
              "9761       debitcards  ...       1\n",
              "9762           remote  ...       2\n",
              "9763       debitcards  ...       0\n",
              "\n",
              "[9764 rows x 4 columns]"
            ]
          },
          "metadata": {
            "tags": []
          },
          "execution_count": 8
        }
      ]
    },
    {
      "cell_type": "markdown",
      "metadata": {
        "id": "l0PA6HrBuNOr"
      },
      "source": [
        "# Описательный Анализ"
      ]
    },
    {
      "cell_type": "markdown",
      "metadata": {
        "id": "fXH9RRic1Vvi"
      },
      "source": [
        "Таблица соответствий названий классов (видов услуг) и части ссылки product:\n",
        "\n",
        "*   Дебетовая карта - **debitcards**\n",
        "*   Ипотека - **hypothec**\n",
        "*   Дистанционное обслуживание физ. лиц - **remote**\n",
        "*   Дистанционное обслуживание юр. лиц - **business_remote**\n",
        "*   Обслуживание юр. лиц - **corporate**"
      ]
    },
    {
      "cell_type": "code",
      "metadata": {
        "colab": {
          "base_uri": "https://localhost:8080/",
          "height": 37
        },
        "id": "gMOihdLzvFtS",
        "outputId": "2b3c316f-e62f-4e41-cead-f9bdb0dbde6c"
      },
      "source": [
        "f'В данном датасете {df.shape[0]} строк'"
      ],
      "execution_count": null,
      "outputs": [
        {
          "output_type": "execute_result",
          "data": {
            "application/vnd.google.colaboratory.intrinsic+json": {
              "type": "string"
            },
            "text/plain": [
              "'В данном датасете 9764 строк'"
            ]
          },
          "metadata": {
            "tags": []
          },
          "execution_count": 9
        }
      ]
    },
    {
      "cell_type": "markdown",
      "metadata": {
        "id": "8afKWxUevZUs"
      },
      "source": [
        "Выведем распределение количества символов в отзыве\n",
        "\n",
        "\n",
        "По оси абсцисс отложена количество символов элемента выборки, по оси ординат – количество сообщений с этим количеством символов. Каждый цвет соответствует классу."
      ]
    },
    {
      "cell_type": "code",
      "metadata": {
        "id": "zqHPRGr-vWcM"
      },
      "source": [
        "def length(text):    \n",
        "    return len(text)\n",
        "\n",
        "df['length'] = df['Text'].apply(length)"
      ],
      "execution_count": null,
      "outputs": []
    },
    {
      "cell_type": "code",
      "metadata": {
        "id": "E-_tnd16vrnT"
      },
      "source": [
        "import matplotlib.pyplot as plt\n",
        "%matplotlib inline\n",
        "import seaborn as sns"
      ],
      "execution_count": null,
      "outputs": []
    },
    {
      "cell_type": "code",
      "metadata": {
        "colab": {
          "base_uri": "https://localhost:8080/",
          "height": 388
        },
        "id": "3KmUbLVZve9M",
        "outputId": "9a6dab6d-c11e-44b1-f739-d6de75bbf230"
      },
      "source": [
        "plt.rcParams['figure.figsize'] = (18.0, 6.0)\n",
        "bins = 150\n",
        "plt.hist(df[df['Label'] == 'debitcards']['length'], alpha = 0.6, bins=bins, label='debitcards')\n",
        "plt.hist(df[df['Label'] == 'hypothec']['length'], alpha = 0.6, bins=bins, label='hypothec')\n",
        "plt.hist(df[df['Label'] == 'remote']['length'], alpha = 0.8, bins=bins, label='remote')\n",
        "plt.hist(df[df['Label'] == 'business_remote']['length'], alpha = 0.4, bins=bins, label='business_remote')\n",
        "plt.hist(df[df['Label'] == 'corporate']['length'], alpha = 0.3, bins=bins, label='corporate')\n",
        "plt.xlabel('length')\n",
        "plt.ylabel('numbers')\n",
        "plt.legend(loc='upper right')\n",
        "plt.xlim(60,4000)\n",
        "plt.grid()\n",
        "plt.show()"
      ],
      "execution_count": null,
      "outputs": [
        {
          "output_type": "display_data",
          "data": {
            "image/png": "[encoded data removed]",
            "text/plain": [
              "<Figure size 1296x432 with 1 Axes>"
            ]
          },
          "metadata": {
            "tags": [],
            "needs_background": "light"
          }
        }
      ]
    },
    {
      "cell_type": "markdown",
      "metadata": {
        "id": "iiqKbU2CwFYs"
      },
      "source": [
        "По данной гистограмме можем заметить, что бОльшая часть отзывов содержит менее 1500 символов. Длинные отзывы пишут, в основном, про ипотеку и удаленную работу.\n"
      ]
    },
    {
      "cell_type": "markdown",
      "metadata": {
        "id": "2JYDDew7w0xC"
      },
      "source": [
        "Выведем распределение количества отзывов по классам:"
      ]
    },
    {
      "cell_type": "code",
      "metadata": {
        "id": "5wzRjhiKwyTh"
      },
      "source": [
        "from sklearn.preprocessing import LabelEncoder"
      ],
      "execution_count": null,
      "outputs": []
    },
    {
      "cell_type": "code",
      "metadata": {
        "id": "6nAi3n8ZwpEa"
      },
      "source": [
        "LE = LabelEncoder()\n",
        "df['le_label'] = LE.fit_transform(df['Label'])"
      ],
      "execution_count": null,
      "outputs": []
    },
    {
      "cell_type": "code",
      "metadata": {
        "colab": {
          "base_uri": "https://localhost:8080/",
          "height": 372
        },
        "id": "kbKLxccuwc1a",
        "outputId": "a1769b74-6b95-4cb0-8338-773b1a3402f2"
      },
      "source": [
        "sns.set()\n",
        "counts = [len(df['le_label'][df['le_label'] == i]) for i in range(5)]\n",
        "names = list(LE.classes_)\n",
        "fig = plt.figure(figsize=(8,4))\n",
        "ax = fig.add_axes([0,0,1,1])\n",
        "ax.bar(names, counts, color=['#1643CF','#321E63','#A66AF3','#EA2722','#FB551A'])\n",
        "plt.title('Сравнение количества отзывов в каждом классе')\n",
        "plt.ylabel('review count')\n",
        "plt.xlabel('product name')\n",
        "for i in range(len(names)):\n",
        "    ax.text(names[i], counts[i], counts[i], color='black', ha=\"center\")\n",
        "plt.show()"
      ],
      "execution_count": null,
      "outputs": [
        {
          "output_type": "display_data",
          "data": {
            "image/png": "[encoded data removed]",
            "text/plain": [
              "<Figure size 576x288 with 1 Axes>"
            ]
          },
          "metadata": {
            "tags": []
          }
        }
      ]
    },
    {
      "cell_type": "markdown",
      "metadata": {
        "id": "kVRQRaB3xBMg"
      },
      "source": [
        "Можно заметить, что меньше всего отзывов про ипотеку, больше всего про удаленную работу и дебетовые карты.\n",
        "\n",
        "Одинаковое количество отзывов про удаленную работу и дебетовые карты вызвано тем, что при сборе датасета было ограничено количество загружаемых страниц с отзывами. Таким образом, сбор датасета не занимает слишком много времени и мы имеем приемлемый баланс классов."
      ]
    },
    {
      "cell_type": "code",
      "metadata": {
        "id": "fzT5g8VVx0Oa"
      },
      "source": [
        "df.drop(['length', 'le_label', 'Mark', 'Checked'], inplace=True, axis=1)"
      ],
      "execution_count": null,
      "outputs": []
    },
    {
      "cell_type": "markdown",
      "metadata": {
        "id": "2nOi3g45xu1y"
      },
      "source": [
        "# Построение моделей ML"
      ]
    },
    {
      "cell_type": "markdown",
      "metadata": {
        "id": "7kwkrAc0yu7G"
      },
      "source": [
        "## Вспомогательные функции"
      ]
    },
    {
      "cell_type": "code",
      "metadata": {
        "id": "kolBa1_Hyt_-"
      },
      "source": [
        "def get_metrics(true_labels, predicted_labels):\n",
        "    \n",
        "    print('Accuracy:', np.round(\n",
        "                        metrics.accuracy_score(true_labels, \n",
        "                                               predicted_labels),\n",
        "                        4))\n",
        "    print('Precision:', np.round(\n",
        "                        metrics.precision_score(true_labels, \n",
        "                                               predicted_labels,\n",
        "                                               average='weighted'),\n",
        "                        4))\n",
        "    print('Recall:', np.round(\n",
        "                        metrics.recall_score(true_labels, \n",
        "                                               predicted_labels,\n",
        "                                               average='weighted'),\n",
        "                        4))\n",
        "    print('F1 Score:', np.round(\n",
        "                        metrics.f1_score(true_labels, \n",
        "                                               predicted_labels,\n",
        "                                               average='weighted'),\n",
        "                        4))\n",
        "\n",
        "def get_f1(true_labels, predicted_labels):\n",
        "    return np.round(metrics.f1_score(true_labels, predicted_labels, average='weighted'), 6)\n",
        "                        \n",
        "\n",
        "def train_predict_model(classifier, \n",
        "                        train_features, train_labels, \n",
        "                        test_features, test_labels):  \n",
        "    classifier.fit(train_features, train_labels)\n",
        "    predictions = classifier.predict(test_features) \n",
        "    return predictions, classifier\n",
        "\n",
        "    \n",
        "def display_classification_report(true_labels, predicted_labels, classes=[1,0]):\n",
        "\n",
        "    report = metrics.classification_report(y_true=true_labels, \n",
        "                                           y_pred=predicted_labels, \n",
        "                                           labels=classes) \n",
        "    print(report)\n",
        "    \n",
        "    \n",
        "    \n",
        "def display_model_performance_metrics(true_labels, predicted_labels, classes=[1,0]):\n",
        "    print('Model Performance metrics:')\n",
        "    print('-'*30)\n",
        "    get_metrics(true_labels=true_labels, predicted_labels=predicted_labels)\n",
        "    print('\\nModel Classification report:')\n",
        "    print('-'*30)\n",
        "    display_classification_report(true_labels=true_labels, predicted_labels=predicted_labels, \n",
        "                                  classes=classes)"
      ],
      "execution_count": null,
      "outputs": []
    },
    {
      "cell_type": "markdown",
      "metadata": {
        "id": "Zl0mebYkzZqR"
      },
      "source": [
        "## Модели ML"
      ]
    },
    {
      "cell_type": "code",
      "metadata": {
        "id": "C9Mak9dOzmOq"
      },
      "source": [
        "from sklearn.feature_extraction.text  import TfidfVectorizer\n",
        "from sklearn.metrics  import f1_score, accuracy_score\n",
        "from sklearn.metrics import  confusion_matrix\n",
        "from sklearn.model_selection import cross_val_score\n",
        "from sklearn.model_selection import train_test_split\n",
        "from imblearn.over_sampling import ADASYN\n",
        "from sklearn.ensemble import RandomForestClassifier\n",
        "from sklearn.naive_bayes import MultinomialNB\n",
        "from sklearn.tree import DecisionTreeClassifier\n",
        "from sklearn.neighbors import KNeighborsClassifier \n",
        "from sklearn.linear_model import LogisticRegression\n",
        "from sklearn.metrics import classification_report\n",
        "from sklearn.linear_model import SGDClassifier\n",
        "from sklearn.neural_network import MLPClassifier\n",
        "import time"
      ],
      "execution_count": null,
      "outputs": []
    },
    {
      "cell_type": "code",
      "metadata": {
        "id": "yM3n6RpGzdGS"
      },
      "source": [
        "lr = LogisticRegression(max_iter=1000, C=1)\n",
        "sgd = SGDClassifier()\n",
        "rf = RandomForestClassifier()\n",
        "knn = KNeighborsClassifier(n_neighbors=7)\n",
        "dt = DecisionTreeClassifier() "
      ],
      "execution_count": null,
      "outputs": []
    },
    {
      "cell_type": "code",
      "metadata": {
        "id": "4KCLeHpQNX7U"
      },
      "source": [
        "mlp = MLPClassifier(random_state = 1)"
      ],
      "execution_count": null,
      "outputs": []
    },
    {
      "cell_type": "markdown",
      "metadata": {
        "id": "OI7NU8N4yzG0"
      },
      "source": [
        "## Logistic Regression"
      ]
    },
    {
      "cell_type": "markdown",
      "metadata": {
        "id": "oiwsbopSy-ZY"
      },
      "source": [
        "Остановлюсь на рассмотрении на модели Логистической регрессии, ниже также приведеные прочие рассмотренные модели с более низкими метриками качества.\n",
        "\n",
        "\n",
        "Стоит отметить, что, разумеется, все рассмотренные в этой части модели достаточно простые. Однако они показывают неплохие метрики, и в дальнейшем будут сравнены с более сложными нейронными сетями"
      ]
    },
    {
      "cell_type": "code",
      "metadata": {
        "id": "gHPUCiAE0pOr"
      },
      "source": [
        "from sklearn import metrics\n",
        "from sklearn.preprocessing import LabelEncoder\n",
        "from sklearn.base import clone\n",
        "from sklearn.model_selection import cross_validate\n",
        "from scipy import interp\n",
        "from sklearn.metrics import roc_curve, auc \n",
        "import warnings\n",
        "warnings.filterwarnings(\"ignore\")"
      ],
      "execution_count": null,
      "outputs": []
    },
    {
      "cell_type": "code",
      "metadata": {
        "id": "t8AQmv_-zv_Q"
      },
      "source": [
        "LE = LabelEncoder()\n",
        "ml_df = pd.DataFrame()\n",
        "ml_df['Label'] = LE.fit_transform(df['Label'])"
      ],
      "execution_count": null,
      "outputs": []
    },
    {
      "cell_type": "code",
      "metadata": {
        "id": "AfoZde400Tma"
      },
      "source": [
        "X = df['Text']\n",
        "y = ml_df['Label']\n",
        "tv = TfidfVectorizer(min_df=0.0, max_df=1.0, sublinear_tf=True)\n",
        "X = tv.fit_transform(X)"
      ],
      "execution_count": null,
      "outputs": []
    },
    {
      "cell_type": "code",
      "metadata": {
        "id": "FY_neSGcz95q"
      },
      "source": [
        "X_train2, X_test2, y_train2, y_test2 = train_test_split(X, y, test_size=0.3, random_state=54)"
      ],
      "execution_count": null,
      "outputs": []
    },
    {
      "cell_type": "code",
      "metadata": {
        "colab": {
          "base_uri": "https://localhost:8080/"
        },
        "id": "delF_C2vxyO7",
        "outputId": "ad92bdd3-9772-44c6-e594-3bf369f8e43d"
      },
      "source": [
        "%%time\n",
        "lr_tfidf_predictions, clf_lgr2 = train_predict_model(classifier=lr, \n",
        "                                               train_features=X_train2, train_labels=y_train2,\n",
        "                                               test_features=X_test2, test_labels=y_test2)\n",
        "display_model_performance_metrics(true_labels=y_test2, predicted_labels=lr_tfidf_predictions,\n",
        "                                      classes=[0,1,2,3,4])"
      ],
      "execution_count": null,
      "outputs": [
        {
          "output_type": "stream",
          "text": [
            "Model Performance metrics:\n",
            "------------------------------\n",
            "Accuracy: 0.6205\n",
            "Precision: 0.6322\n",
            "Recall: 0.6205\n",
            "F1 Score: 0.6237\n",
            "\n",
            "Model Classification report:\n",
            "------------------------------\n",
            "              precision    recall  f1-score   support\n",
            "\n",
            "           0       0.64      0.53      0.58       493\n",
            "           1       0.69      0.73      0.71       623\n",
            "           2       0.57      0.57      0.57       758\n",
            "           3       0.98      0.79      0.88       316\n",
            "           4       0.50      0.57      0.53       740\n",
            "\n",
            "    accuracy                           0.62      2930\n",
            "   macro avg       0.67      0.64      0.65      2930\n",
            "weighted avg       0.63      0.62      0.62      2930\n",
            "\n",
            "CPU times: user 11.8 s, sys: 12.1 s, total: 23.9 s\n",
            "Wall time: 12.3 s\n"
          ],
          "name": "stdout"
        }
      ]
    },
    {
      "cell_type": "code",
      "metadata": {
        "colab": {
          "base_uri": "https://localhost:8080/",
          "height": 654
        },
        "id": "TxUYNVvG00lu",
        "outputId": "b8f6f642-e139-4bea-9a15-c5a752460b7b"
      },
      "source": [
        "cof=confusion_matrix(y_test2, lr_tfidf_predictions)\n",
        "cof=pd.DataFrame(cof, index=[i for i in range(0,5)], columns=[i for i in range(0,5)])\n",
        "sns.set(font_scale=1.5)\n",
        "plt.figure(figsize=(8,8));\n",
        "\n",
        "sns.heatmap(cof, cmap='Reds',linewidths=1, annot=True,square=True, fmt='d', cbar=False,xticklabels=\n",
        "                ['debitcards','hypothec','remote','business_remote', 'corporate'],\n",
        "            yticklabels=['debitcards','hypothec','remote','business_remote', 'corporate']);\n",
        "plt.xlabel(\"Predicted Classes\")\n",
        "plt.ylabel(\"Actual Classes\")"
      ],
      "execution_count": null,
      "outputs": [
        {
          "output_type": "execute_result",
          "data": {
            "text/plain": [
              "Text(45.994375, 0.5, 'Actual Classes')"
            ]
          },
          "metadata": {
            "tags": []
          },
          "execution_count": 87
        },
        {
          "output_type": "display_data",
          "data": {
            "image/png": "[encoded data removed]",
            "text/plain": [
              "<Figure size 576x576 with 1 Axes>"
            ]
          },
          "metadata": {
            "tags": []
          }
        }
      ]
    },
    {
      "cell_type": "markdown",
      "metadata": {
        "id": "E5y967ZJ07X9"
      },
      "source": [
        "Исходя из матрицы ошибок, можно заметить что модель неплохо отделяет отзывы по удаленной работе юр лиц от отзывов по остальным услугам банка. С немного менее высокой точностью модель предсказывает отзывы по дебетовым картам.\n",
        "\n",
        "Наиболее затруднительно для алгоритма отделить отзывы по обслуживанию юр. лиц от их именно дистанционного обслуживания, что вполне логично, так как по сути второе является подчастью первого.\n",
        "\n",
        "В целом Логистическая регрессия показывает неплохое качество предсказаний при затрате 12 секунд на обучение (на датасете с 9 тысячами строк)."
      ]
    },
    {
      "cell_type": "markdown",
      "metadata": {
        "id": "JlRoZuWY1ml7"
      },
      "source": [
        "Для проверки значимости результатов используем кросс валидацию и построим доверительный интервал для f1 score:"
      ]
    },
    {
      "cell_type": "code",
      "metadata": {
        "id": "d_hR01df060N"
      },
      "source": [
        "lr_cv_f1 = cross_validate(lr, X, y, cv=10, scoring='f1_weighted')['test_score']"
      ],
      "execution_count": null,
      "outputs": []
    },
    {
      "cell_type": "code",
      "metadata": {
        "colab": {
          "base_uri": "https://localhost:8080/",
          "height": 37
        },
        "id": "_g_IGe741tUz",
        "outputId": "7cea5929-093c-415e-8f94-2034e2fc8cb0"
      },
      "source": [
        "f\"Доверительный интервал f1 LR: {round(lr_cv_f1.mean(),2)} +/- {round(lr_cv_f1.std() * 2,2)}\""
      ],
      "execution_count": null,
      "outputs": [
        {
          "output_type": "execute_result",
          "data": {
            "application/vnd.google.colaboratory.intrinsic+json": {
              "type": "string"
            },
            "text/plain": [
              "'Доверительный интервал f1 LR: 0.63 +/- 0.02'"
            ]
          },
          "metadata": {
            "tags": []
          },
          "execution_count": 90
        }
      ]
    },
    {
      "cell_type": "markdown",
      "metadata": {
        "id": "a8-w5HfU1vfp"
      },
      "source": [
        "Полученный результат может говорить об отсутствии переобучения на обучающей выборке."
      ]
    },
    {
      "cell_type": "markdown",
      "metadata": {
        "id": "qQJ474VpTYE8"
      },
      "source": [
        "## Grid Search Logistic Regression"
      ]
    },
    {
      "cell_type": "code",
      "metadata": {
        "colab": {
          "base_uri": "https://localhost:8080/"
        },
        "id": "FVSm2ilETcew",
        "outputId": "2e3a3419-efd6-49b9-8e93-667a921e7d95"
      },
      "source": [
        "%%time\n",
        "import itertools\n",
        "import scipy\n",
        "from sklearn.model_selection import GridSearchCV\n",
        "from sklearn.metrics import accuracy_score, classification_report, confusion_matrix, log_loss\n",
        "from sklearn.linear_model import LogisticRegression\n",
        "from sklearn.svm import SVC\n",
        "from sklearn.neighbors import KNeighborsClassifier\n",
        "from sklearn.tree import DecisionTreeClassifier\n",
        "\n",
        "def gridd(estimator, param_grid):\n",
        "    clf = GridSearchCV(\n",
        "                estimator=estimator, \n",
        "                param_grid=param_grid, \n",
        "                scoring=None,\n",
        "                n_jobs=-1, \n",
        "                cv=10, \n",
        "                verbose=0,\n",
        "                return_train_score=True)\n",
        "    clf.fit(X=X_train2, y=y_train2)\n",
        "    return clf   \n",
        "logreg_params = {} \n",
        "logreg_params[\"C\"] =  [0.01, 0.1, 10, 100]\n",
        "logreg_params[\"fit_intercept\"] =  [True, False]\n",
        "logreg_params[\"warm_start\"] = [True,False]\n",
        "logreg_params[\"random_state\"] = [1]\n",
        "logregression_grid = gridd(LogisticRegression(), logreg_params)"
      ],
      "execution_count": null,
      "outputs": [
        {
          "output_type": "stream",
          "text": [
            "CPU times: user 8.55 s, sys: 6 s, total: 14.5 s\n",
            "Wall time: 6min 33s\n"
          ],
          "name": "stdout"
        }
      ]
    },
    {
      "cell_type": "code",
      "metadata": {
        "colab": {
          "base_uri": "https://localhost:8080/"
        },
        "id": "0cmYmhk9Td8-",
        "outputId": "2d203928-16f5-4cee-f598-3578ae158008"
      },
      "source": [
        "acc = accuracy_score(y_true=y_test2, y_pred=logregression_grid.predict(X_test2))\n",
        "print(\"Grid search results\")\n",
        "print(\"Best training accuracy:\\t\", logregression_grid.best_score_)\n",
        "print(\"Test accuracy:\\t\", acc)"
      ],
      "execution_count": null,
      "outputs": [
        {
          "output_type": "stream",
          "text": [
            "Grid search results\n",
            "Best training accuracy:\t 0.6112093618624403\n",
            "Test accuracy:\t 0.6027303754266211\n"
          ],
          "name": "stdout"
        }
      ]
    },
    {
      "cell_type": "code",
      "metadata": {
        "colab": {
          "base_uri": "https://localhost:8080/"
        },
        "id": "cvslPQ4CVRt2",
        "outputId": "40715e46-58ff-46fe-a6d0-1a87a595ccf3"
      },
      "source": [
        "display_model_performance_metrics(true_labels=y_test2, predicted_labels=logregression_grid.predict(X_test2),\n",
        "                                      classes=[0,1,2,3,4])"
      ],
      "execution_count": null,
      "outputs": [
        {
          "output_type": "stream",
          "text": [
            "Model Performance metrics:\n",
            "------------------------------\n",
            "Accuracy: 0.6027\n",
            "Precision: 0.611\n",
            "Recall: 0.6027\n",
            "F1 Score: 0.6058\n",
            "\n",
            "Model Classification report:\n",
            "------------------------------\n",
            "              precision    recall  f1-score   support\n",
            "\n",
            "           0       0.62      0.58      0.60       493\n",
            "           1       0.69      0.70      0.70       623\n",
            "           2       0.53      0.50      0.52       758\n",
            "           3       0.97      0.84      0.90       316\n",
            "           4       0.47      0.53      0.50       740\n",
            "\n",
            "    accuracy                           0.60      2930\n",
            "   macro avg       0.66      0.63      0.64      2930\n",
            "weighted avg       0.61      0.60      0.61      2930\n",
            "\n"
          ],
          "name": "stdout"
        }
      ]
    },
    {
      "cell_type": "markdown",
      "metadata": {
        "id": "8SZW9MuYVmXw"
      },
      "source": [
        "Исходя из метрик, лучше использовать стандартные гиперпараметры для Логистической Регрессии"
      ]
    },
    {
      "cell_type": "markdown",
      "metadata": {
        "id": "X_noyBmg2UBf"
      },
      "source": [
        "## Прочие модели ML"
      ]
    },
    {
      "cell_type": "code",
      "metadata": {
        "colab": {
          "base_uri": "https://localhost:8080/",
          "height": 37
        },
        "id": "uFVfhfQu2Xfg",
        "outputId": "ab9752de-e361-4a11-c070-551beb548ecc"
      },
      "source": [
        "knn_cv_f1 = cross_validate(knn, X, y, cv=10, scoring='f1_weighted')['test_score']\n",
        "f\"Дов. интервал f1 KNN: {round(knn_cv_f1.mean(),2)} +/- {round(knn_cv_f1.std() * 2,2)}\""
      ],
      "execution_count": null,
      "outputs": [
        {
          "output_type": "execute_result",
          "data": {
            "application/vnd.google.colaboratory.intrinsic+json": {
              "type": "string"
            },
            "text/plain": [
              "'Дов. интервал f1 KNN: 0.57 +/- 0.03'"
            ]
          },
          "metadata": {
            "tags": []
          },
          "execution_count": 95
        }
      ]
    },
    {
      "cell_type": "code",
      "metadata": {
        "colab": {
          "base_uri": "https://localhost:8080/",
          "height": 37
        },
        "id": "Nq-YIru02au7",
        "outputId": "318878a8-a534-4d1e-c3e4-8e2eeff7d42b"
      },
      "source": [
        "dt_cv_f1 = cross_validate(dt, X, y, cv=10, scoring='f1_weighted')['test_score']\n",
        "f\"Дов. интервал f1 DT: {round(dt_cv_f1.mean(),2)} +/- {round(dt_cv_f1.std() * 2,2)}\""
      ],
      "execution_count": null,
      "outputs": [
        {
          "output_type": "execute_result",
          "data": {
            "application/vnd.google.colaboratory.intrinsic+json": {
              "type": "string"
            },
            "text/plain": [
              "'Дов. интервал f1 DT: 0.47 +/- 0.02'"
            ]
          },
          "metadata": {
            "tags": []
          },
          "execution_count": 97
        }
      ]
    },
    {
      "cell_type": "code",
      "metadata": {
        "colab": {
          "base_uri": "https://localhost:8080/",
          "height": 37
        },
        "id": "xvo9nwlK2a30",
        "outputId": "448ff52b-e9ef-4ae7-ca39-d0515de04468"
      },
      "source": [
        "sgd_cv_f1 = cross_validate(sgd, X, y, cv=10, scoring='f1_weighted')['test_score']\n",
        "f\"Дов. интервал f1 SGD: {round(sgd_cv_f1.mean(),2)} +/- {round(sgd_cv_f1.std() * 2,2)}\""
      ],
      "execution_count": null,
      "outputs": [
        {
          "output_type": "execute_result",
          "data": {
            "application/vnd.google.colaboratory.intrinsic+json": {
              "type": "string"
            },
            "text/plain": [
              "'Дов. интервал f1 SGD: 0.62 +/- 0.02'"
            ]
          },
          "metadata": {
            "tags": []
          },
          "execution_count": 99
        }
      ]
    },
    {
      "cell_type": "markdown",
      "metadata": {
        "id": "T1jL12Uf4AA9"
      },
      "source": [
        "# Модели NN"
      ]
    },
    {
      "cell_type": "markdown",
      "metadata": {
        "id": "Ff6ntAI_NwjW"
      },
      "source": [
        "## MLP"
      ]
    },
    {
      "cell_type": "code",
      "metadata": {
        "colab": {
          "base_uri": "https://localhost:8080/"
        },
        "id": "h-vO3KohN83V",
        "outputId": "37e2b8cf-9389-43fd-89fb-92b3f2b7da6e"
      },
      "source": [
        "%%time\n",
        "mlp_predictions, clf_mlp = train_predict_model(classifier=mlp, \n",
        "                                               train_features=X_train2, train_labels=y_train2,\n",
        "                                              test_features=X_test2, test_labels=y_test2)"
      ],
      "execution_count": null,
      "outputs": [
        {
          "output_type": "stream",
          "text": [
            "CPU times: user 9min 38s, sys: 5min 58s, total: 15min 36s\n",
            "Wall time: 8min 48s\n"
          ],
          "name": "stdout"
        }
      ]
    },
    {
      "cell_type": "code",
      "metadata": {
        "colab": {
          "base_uri": "https://localhost:8080/"
        },
        "id": "2-VFCVsEOOSS",
        "outputId": "adbfa266-e1e7-4d0e-b3b5-7c7660bf90d0"
      },
      "source": [
        "display_model_performance_metrics(true_labels=y_test2, predicted_labels=mlp_predictions,\n",
        "                                      classes=[0,1,2,3,4])"
      ],
      "execution_count": null,
      "outputs": [
        {
          "output_type": "stream",
          "text": [
            "Model Performance metrics:\n",
            "------------------------------\n",
            "Accuracy: 0.5918\n",
            "Precision: 0.6013\n",
            "Recall: 0.5918\n",
            "F1 Score: 0.5956\n",
            "\n",
            "Model Classification report:\n",
            "------------------------------\n",
            "              precision    recall  f1-score   support\n",
            "\n",
            "           0       0.61      0.55      0.58       493\n",
            "           1       0.70      0.67      0.68       623\n",
            "           2       0.51      0.55      0.53       758\n",
            "           3       0.95      0.84      0.89       316\n",
            "           4       0.46      0.49      0.47       740\n",
            "\n",
            "    accuracy                           0.59      2930\n",
            "   macro avg       0.65      0.62      0.63      2930\n",
            "weighted avg       0.60      0.59      0.60      2930\n",
            "\n"
          ],
          "name": "stdout"
        }
      ]
    },
    {
      "cell_type": "markdown",
      "metadata": {
        "id": "ZqiZxH_Uu1nZ"
      },
      "source": [
        "## Train-Test split & One_Hot"
      ]
    },
    {
      "cell_type": "code",
      "metadata": {
        "colab": {
          "base_uri": "https://localhost:8080/",
          "height": 204
        },
        "id": "R4L-GtL_rXdo",
        "outputId": "17553b97-a06e-40fb-a4d9-ca98bbbe396b"
      },
      "source": [
        "one_hot = pd.get_dummies(df[\"Label\"])\n",
        "df.drop(['Label'],axis=1,inplace=True)\n",
        "df = pd.concat([df,one_hot],axis=1)\n",
        "df.head()"
      ],
      "execution_count": null,
      "outputs": [
        {
          "output_type": "execute_result",
          "data": {
            "text/html": [
              "<div>\n",
              "<style scoped>\n",
              "    .dataframe tbody tr th:only-of-type {\n",
              "        vertical-align: middle;\n",
              "    }\n",
              "\n",
              "    .dataframe tbody tr th {\n",
              "        vertical-align: top;\n",
              "    }\n",
              "\n",
              "    .dataframe thead th {\n",
              "        text-align: right;\n",
              "    }\n",
              "</style>\n",
              "<table border=\"1\" class=\"dataframe\">\n",
              "  <thead>\n",
              "    <tr style=\"text-align: right;\">\n",
              "      <th></th>\n",
              "      <th>Text</th>\n",
              "      <th>business_remote</th>\n",
              "      <th>corporate</th>\n",
              "      <th>debitcards</th>\n",
              "      <th>hypothec</th>\n",
              "      <th>remote</th>\n",
              "    </tr>\n",
              "  </thead>\n",
              "  <tbody>\n",
              "    <tr>\n",
              "      <th>0</th>\n",
              "      <td>добрый день! много раз пополнял до этого карту...</td>\n",
              "      <td>0</td>\n",
              "      <td>0</td>\n",
              "      <td>0</td>\n",
              "      <td>0</td>\n",
              "      <td>1</td>\n",
              "    </tr>\n",
              "    <tr>\n",
              "      <th>1</th>\n",
              "      <td>хотел бы оставить отзыв о самом удобном банке....</td>\n",
              "      <td>0</td>\n",
              "      <td>1</td>\n",
              "      <td>0</td>\n",
              "      <td>0</td>\n",
              "      <td>0</td>\n",
              "    </tr>\n",
              "    <tr>\n",
              "      <th>2</th>\n",
              "      <td>прошу обратить внимание на нашу проблему.у нас...</td>\n",
              "      <td>0</td>\n",
              "      <td>1</td>\n",
              "      <td>0</td>\n",
              "      <td>0</td>\n",
              "      <td>0</td>\n",
              "    </tr>\n",
              "    <tr>\n",
              "      <th>3</th>\n",
              "      <td>пользуюсь банком как ип, получаю платежи от ин...</td>\n",
              "      <td>1</td>\n",
              "      <td>0</td>\n",
              "      <td>0</td>\n",
              "      <td>0</td>\n",
              "      <td>0</td>\n",
              "    </tr>\n",
              "    <tr>\n",
              "      <th>4</th>\n",
              "      <td>являюсь клиентом тинькофф банка с ноября 2019 ...</td>\n",
              "      <td>0</td>\n",
              "      <td>0</td>\n",
              "      <td>0</td>\n",
              "      <td>0</td>\n",
              "      <td>1</td>\n",
              "    </tr>\n",
              "  </tbody>\n",
              "</table>\n",
              "</div>"
            ],
            "text/plain": [
              "                                                Text  ...  remote\n",
              "0  добрый день! много раз пополнял до этого карту...  ...       1\n",
              "1  хотел бы оставить отзыв о самом удобном банке....  ...       0\n",
              "2  прошу обратить внимание на нашу проблему.у нас...  ...       0\n",
              "3  пользуюсь банком как ип, получаю платежи от ин...  ...       0\n",
              "4  являюсь клиентом тинькофф банка с ноября 2019 ...  ...       1\n",
              "\n",
              "[5 rows x 6 columns]"
            ]
          },
          "metadata": {
            "tags": []
          },
          "execution_count": 100
        }
      ]
    },
    {
      "cell_type": "code",
      "metadata": {
        "id": "oauMKNznsn4S"
      },
      "source": [
        "from sklearn.model_selection import train_test_split\n",
        "X_train, X_test, y_train, y_test = train_test_split(df[\"Text\"].values, \n",
        "                                                    df.drop([\"Text\"], axis=1).values, test_size=0.2, random_state=1)"
      ],
      "execution_count": null,
      "outputs": []
    },
    {
      "cell_type": "code",
      "metadata": {
        "id": "1CsigObYtZBP"
      },
      "source": [
        "vocabulary_size = 100000\n",
        "tokenizer = Tokenizer(num_words= vocabulary_size)\n",
        "tokenizer.fit_on_texts(X_train)\n",
        "sequences = tokenizer.texts_to_sequences(X_train)\n",
        "X_train = pad_sequences(sequences, maxlen=50)"
      ],
      "execution_count": null,
      "outputs": []
    },
    {
      "cell_type": "code",
      "metadata": {
        "id": "tQE5v3tjtdCO"
      },
      "source": [
        "sequences = tokenizer.texts_to_sequences(X_test)\n",
        "X_test = pad_sequences(sequences, maxlen=50)"
      ],
      "execution_count": null,
      "outputs": []
    },
    {
      "cell_type": "markdown",
      "metadata": {
        "id": "L32482kW4RN_"
      },
      "source": [
        "## LSTM"
      ]
    },
    {
      "cell_type": "code",
      "metadata": {
        "id": "tEqF_Cx-4NpR"
      },
      "source": [
        "model = Sequential()\n",
        "model.add(Embedding(100000, 100, input_length=50))\n",
        "model.add(Dropout(0.2))\n",
        "model.add(Conv1D(64, 5, activation='relu'))\n",
        "model.add(MaxPooling1D(pool_size=2))\n",
        "model.add(LSTM(100))\n",
        "model.add(Dense(5, activation='softmax')) # 5 - number of classes"
      ],
      "execution_count": null,
      "outputs": []
    },
    {
      "cell_type": "code",
      "metadata": {
        "id": "QKcVkIyi4VBq"
      },
      "source": [
        "model.compile(loss='categorical_crossentropy', optimizer='adam', metrics=['accuracy'])"
      ],
      "execution_count": null,
      "outputs": []
    },
    {
      "cell_type": "code",
      "metadata": {
        "colab": {
          "base_uri": "https://localhost:8080/"
        },
        "id": "mRBnZGC54Vii",
        "outputId": "d20f48d9-e082-4ff6-bcb5-80a226893ebd"
      },
      "source": [
        "model.fit(X_train, y_train,\n",
        "                    batch_size=1024,\n",
        "                    epochs=12,\n",
        "                    verbose=1,\n",
        "                    validation_split=0.1)"
      ],
      "execution_count": null,
      "outputs": [
        {
          "output_type": "stream",
          "text": [
            "Epoch 1/12\n",
            "7/7 [==============================] - 25s 811ms/step - loss: 1.5985 - accuracy: 0.2357 - val_loss: 1.5759 - val_accuracy: 0.2417\n",
            "Epoch 2/12\n",
            "7/7 [==============================] - 5s 660ms/step - loss: 1.5617 - accuracy: 0.2589 - val_loss: 1.5621 - val_accuracy: 0.2468\n",
            "Epoch 3/12\n",
            "7/7 [==============================] - 5s 649ms/step - loss: 1.5429 - accuracy: 0.2586 - val_loss: 1.5428 - val_accuracy: 0.2481\n",
            "Epoch 4/12\n",
            "7/7 [==============================] - 5s 664ms/step - loss: 1.4877 - accuracy: 0.2881 - val_loss: 1.4807 - val_accuracy: 0.2570\n",
            "Epoch 5/12\n",
            "7/7 [==============================] - 5s 665ms/step - loss: 1.3368 - accuracy: 0.3436 - val_loss: 1.3911 - val_accuracy: 0.3772\n",
            "Epoch 6/12\n",
            "7/7 [==============================] - 5s 660ms/step - loss: 1.1680 - accuracy: 0.4915 - val_loss: 1.3930 - val_accuracy: 0.3760\n",
            "Epoch 7/12\n",
            "7/7 [==============================] - 5s 658ms/step - loss: 1.0047 - accuracy: 0.5250 - val_loss: 1.3962 - val_accuracy: 0.3721\n",
            "Epoch 8/12\n",
            "7/7 [==============================] - 5s 661ms/step - loss: 0.8673 - accuracy: 0.5824 - val_loss: 1.5180 - val_accuracy: 0.3951\n",
            "Epoch 9/12\n",
            "7/7 [==============================] - 5s 657ms/step - loss: 0.7068 - accuracy: 0.7227 - val_loss: 1.6649 - val_accuracy: 0.3900\n",
            "Epoch 10/12\n",
            "7/7 [==============================] - 5s 652ms/step - loss: 0.5538 - accuracy: 0.7868 - val_loss: 1.9120 - val_accuracy: 0.3913\n",
            "Epoch 11/12\n",
            "7/7 [==============================] - 5s 655ms/step - loss: 0.3997 - accuracy: 0.8557 - val_loss: 2.0893 - val_accuracy: 0.3772\n",
            "Epoch 12/12\n",
            "7/7 [==============================] - 5s 657ms/step - loss: 0.2906 - accuracy: 0.9010 - val_loss: 2.2718 - val_accuracy: 0.3683\n"
          ],
          "name": "stdout"
        },
        {
          "output_type": "execute_result",
          "data": {
            "text/plain": [
              "<keras.callbacks.History at 0x7fd0595d4790>"
            ]
          },
          "metadata": {
            "tags": []
          },
          "execution_count": 108
        }
      ]
    },
    {
      "cell_type": "code",
      "metadata": {
        "colab": {
          "base_uri": "https://localhost:8080/",
          "height": 54
        },
        "id": "2EazSJ5y4XNk",
        "outputId": "a5082128-2aef-4528-f319-c89ec37a64e0"
      },
      "source": [
        "score = model.evaluate(X_test, y_test,\n",
        "                       batch_size=256, verbose=1)\n",
        "f'Test accuracy:{score[1]}'"
      ],
      "execution_count": null,
      "outputs": [
        {
          "output_type": "stream",
          "text": [
            "8/8 [==============================] - 0s 43ms/step - loss: 2.0963 - accuracy: 0.4055\n"
          ],
          "name": "stdout"
        },
        {
          "output_type": "execute_result",
          "data": {
            "application/vnd.google.colaboratory.intrinsic+json": {
              "type": "string"
            },
            "text/plain": [
              "'Test accuracy:0.4055299460887909'"
            ]
          },
          "metadata": {
            "tags": []
          },
          "execution_count": 109
        }
      ]
    },
    {
      "cell_type": "code",
      "metadata": {
        "id": "-V_PGVJT4g4Y"
      },
      "source": [
        "preds = model.predict(X_test)"
      ],
      "execution_count": null,
      "outputs": []
    },
    {
      "cell_type": "code",
      "metadata": {
        "colab": {
          "base_uri": "https://localhost:8080/"
        },
        "id": "SvF0hVf64hdL",
        "outputId": "02fa78cb-4d15-49df-bc3f-18f6bf025fe7"
      },
      "source": [
        "print(classification_report(np.argmax(y_test,axis=1),np.argmax(preds,axis=1)))"
      ],
      "execution_count": null,
      "outputs": [
        {
          "output_type": "stream",
          "text": [
            "              precision    recall  f1-score   support\n",
            "\n",
            "           0       0.42      0.32      0.37       355\n",
            "           1       0.40      0.52      0.45       374\n",
            "           2       0.48      0.33      0.39       481\n",
            "           3       0.57      0.45      0.50       222\n",
            "           4       0.33      0.43      0.37       521\n",
            "\n",
            "    accuracy                           0.41      1953\n",
            "   macro avg       0.44      0.41      0.42      1953\n",
            "weighted avg       0.42      0.41      0.41      1953\n",
            "\n"
          ],
          "name": "stdout"
        }
      ]
    },
    {
      "cell_type": "markdown",
      "metadata": {
        "id": "rV7A2R165t8u"
      },
      "source": [
        "## Custom Embedding"
      ]
    },
    {
      "cell_type": "markdown",
      "metadata": {
        "id": "Kxy58rUl68ry"
      },
      "source": [
        "[Источник эмбеддинга](https://wikipedia2vec.github.io/wikipedia2vec/pretrained/)\n",
        "\n",
        "Для удобства я загрузил его на свой dropbox"
      ]
    },
    {
      "cell_type": "code",
      "metadata": {
        "colab": {
          "base_uri": "https://localhost:8080/"
        },
        "id": "iA8Zl7QD5utZ",
        "outputId": "6783e490-2417-44fb-94bd-a0b18cc0b5df"
      },
      "source": [
        "!wget https://dl.dropbox.com/s/jwj2yctlee55ss9/ruwiki_20180420_100d.txt"
      ],
      "execution_count": null,
      "outputs": [
        {
          "output_type": "stream",
          "text": [
            "--2021-06-15 09:01:03--  https://dl.dropbox.com/s/jwj2yctlee55ss9/ruwiki_20180420_100d.txt\n",
            "Resolving dl.dropbox.com (dl.dropbox.com)... 162.125.1.15, 2620:100:6016:15::a27d:10f\n",
            "Connecting to dl.dropbox.com (dl.dropbox.com)|162.125.1.15|:443... connected.\n",
            "HTTP request sent, awaiting response... 302 Found\n",
            "Location: https://dl.dropboxusercontent.com/s/jwj2yctlee55ss9/ruwiki_20180420_100d.txt [following]\n",
            "--2021-06-15 09:01:04--  https://dl.dropboxusercontent.com/s/jwj2yctlee55ss9/ruwiki_20180420_100d.txt\n",
            "Resolving dl.dropboxusercontent.com (dl.dropboxusercontent.com)... 162.125.1.15, 2620:100:6016:15::a27d:10f\n",
            "Connecting to dl.dropboxusercontent.com (dl.dropboxusercontent.com)|162.125.1.15|:443... connected.\n",
            "HTTP request sent, awaiting response... 200 OK\n",
            "Length: 2023075311 (1.9G) [text/plain]\n",
            "Saving to: ‘ruwiki_20180420_100d.txt’\n",
            "\n",
            "ruwiki_20180420_100 100%[===================>]   1.88G  44.8MB/s    in 46s     \n",
            "\n",
            "2021-06-15 09:01:50 (42.2 MB/s) - ‘ruwiki_20180420_100d.txt’ saved [2023075311/2023075311]\n",
            "\n"
          ],
          "name": "stdout"
        }
      ]
    },
    {
      "cell_type": "markdown",
      "metadata": {
        "id": "rjGbGe-e7G7Y"
      },
      "source": [
        "Новая Токенизация"
      ]
    },
    {
      "cell_type": "code",
      "metadata": {
        "id": "NXDxhWac5xVY"
      },
      "source": [
        "from keras.preprocessing import sequence, text"
      ],
      "execution_count": null,
      "outputs": []
    },
    {
      "cell_type": "code",
      "metadata": {
        "id": "xzYcwVBO51JI"
      },
      "source": [
        "X_train, X_test, y_train, y_test = train_test_split(df[\"Text\"].values, df.drop(['Text'],axis=1).values, test_size=0.2, random_state=42)"
      ],
      "execution_count": null,
      "outputs": []
    },
    {
      "cell_type": "code",
      "metadata": {
        "id": "7wNNhFw151xm"
      },
      "source": [
        "# using keras tokenizer here\n",
        "token = text.Tokenizer(num_words=None)\n",
        "max_len = 1500\n",
        "\n",
        "token.fit_on_texts(list(X_train) + list(X_test))\n",
        "xtrain_seq = token.texts_to_sequences(X_train)\n",
        "xvalid_seq = token.texts_to_sequences(X_test)\n",
        "\n",
        "#zero pad the sequences\n",
        "xtrain_pad = sequence.pad_sequences(xtrain_seq, maxlen=max_len)\n",
        "xvalid_pad = sequence.pad_sequences(xvalid_seq, maxlen=max_len)\n",
        "\n",
        "word_index = token.word_index"
      ],
      "execution_count": null,
      "outputs": []
    },
    {
      "cell_type": "markdown",
      "metadata": {
        "id": "QR5Tc78K7Ku3"
      },
      "source": [
        "Загрузка векторов в словарь"
      ]
    },
    {
      "cell_type": "code",
      "metadata": {
        "colab": {
          "base_uri": "https://localhost:8080/",
          "height": 54
        },
        "id": "TdI9fA_k53oT",
        "outputId": "89d3e029-c4c5-4d08-bad5-541e54d116ae"
      },
      "source": [
        "embeddings_index = {}\n",
        "f = open('ruwiki_20180420_100d.txt','r',encoding='utf-8')\n",
        "for line in tqdm(f):\n",
        "    values = line.split(' ')\n",
        "    word = values[0]\n",
        "    coefs = np.asarray([float(val) for val in values[1:]])\n",
        "    embeddings_index[word] = coefs\n",
        "f.close()\n",
        "\n",
        "f'Found {len(embeddings_index)} word vectors'"
      ],
      "execution_count": null,
      "outputs": [
        {
          "output_type": "stream",
          "text": [
            "2602508it [01:35, 27141.52it/s]\n"
          ],
          "name": "stderr"
        },
        {
          "output_type": "execute_result",
          "data": {
            "application/vnd.google.colaboratory.intrinsic+json": {
              "type": "string"
            },
            "text/plain": [
              "'Found 2602508 word vectors'"
            ]
          },
          "metadata": {
            "tags": []
          },
          "execution_count": 128
        }
      ]
    },
    {
      "cell_type": "markdown",
      "metadata": {
        "id": "wNrYbOrZ7O89"
      },
      "source": [
        "Создаем embedding matrix для слов из нашего датасета"
      ]
    },
    {
      "cell_type": "code",
      "metadata": {
        "colab": {
          "base_uri": "https://localhost:8080/"
        },
        "id": "uFyE-cIO55yd",
        "outputId": "695281ab-3ae0-4629-d42f-d574a36e63f9"
      },
      "source": [
        "embedding_matrix = np.zeros((len(word_index) + 1, 100))\n",
        "for word, i in tqdm(word_index.items()):\n",
        "    embedding_vector = embeddings_index.get(word)\n",
        "    if embedding_vector is not None:\n",
        "        embedding_matrix[i] = embedding_vector"
      ],
      "execution_count": null,
      "outputs": [
        {
          "output_type": "stream",
          "text": [
            "100%|██████████| 68044/68044 [00:00<00:00, 424575.04it/s]\n"
          ],
          "name": "stderr"
        }
      ]
    },
    {
      "cell_type": "code",
      "metadata": {
        "id": "pR2WieXZ57Pv"
      },
      "source": [
        "model_c = Sequential()\n",
        "model_c.add(Embedding(len(word_index) + 1,\n",
        "                     100,\n",
        "                     weights=[embedding_matrix],\n",
        "                     input_length=max_len,\n",
        "                     trainable=False))\n",
        "model_c.add(Dropout(0.2))\n",
        "model_c.add(MaxPooling1D(pool_size=2))\n",
        "model_c.add(LSTM(100))\n",
        "model_c.add(Dense(5, activation='softmax')) # 5 - number of classes"
      ],
      "execution_count": null,
      "outputs": []
    },
    {
      "cell_type": "code",
      "metadata": {
        "id": "F3od-qOi5-Jw"
      },
      "source": [
        "model_c.compile(loss='categorical_crossentropy', optimizer='adam', metrics=['accuracy'])"
      ],
      "execution_count": null,
      "outputs": []
    },
    {
      "cell_type": "code",
      "metadata": {
        "colab": {
          "base_uri": "https://localhost:8080/"
        },
        "id": "QzIa44Ge6AXL",
        "outputId": "ffba9bd8-4aad-4536-b362-ad74d933ff69"
      },
      "source": [
        "model_c.fit(xtrain_pad, y_train,\n",
        "                    batch_size=1024,\n",
        "                    epochs=20,\n",
        "                    verbose=1,\n",
        "                    validation_split=0.1)"
      ],
      "execution_count": null,
      "outputs": [
        {
          "output_type": "stream",
          "text": [
            "Epoch 1/20\n",
            "7/7 [==============================] - 77s 11s/step - loss: 1.5916 - accuracy: 0.2270 - val_loss: 1.5601 - val_accuracy: 0.2647\n",
            "Epoch 2/20\n",
            "7/7 [==============================] - 77s 11s/step - loss: 1.5668 - accuracy: 0.2647 - val_loss: 1.5587 - val_accuracy: 0.2749\n",
            "Epoch 3/20\n",
            "7/7 [==============================] - 74s 11s/step - loss: 1.5500 - accuracy: 0.2874 - val_loss: 1.5407 - val_accuracy: 0.2852\n",
            "Epoch 4/20\n",
            "7/7 [==============================] - 73s 10s/step - loss: 1.5245 - accuracy: 0.3084 - val_loss: 1.5378 - val_accuracy: 0.2980\n",
            "Epoch 5/20\n",
            "7/7 [==============================] - 73s 10s/step - loss: 1.5024 - accuracy: 0.3167 - val_loss: 1.4961 - val_accuracy: 0.3338\n",
            "Epoch 6/20\n",
            "7/7 [==============================] - 72s 10s/step - loss: 1.4603 - accuracy: 0.3600 - val_loss: 1.4339 - val_accuracy: 0.3517\n",
            "Epoch 7/20\n",
            "7/7 [==============================] - 72s 10s/step - loss: 1.4568 - accuracy: 0.3641 - val_loss: 1.4036 - val_accuracy: 0.3926\n",
            "Epoch 8/20\n",
            "7/7 [==============================] - 72s 10s/step - loss: 1.4119 - accuracy: 0.3915 - val_loss: 1.4508 - val_accuracy: 0.3670\n",
            "Epoch 9/20\n",
            "7/7 [==============================] - 72s 10s/step - loss: 1.3729 - accuracy: 0.4135 - val_loss: 1.3537 - val_accuracy: 0.4015\n",
            "Epoch 10/20\n",
            "7/7 [==============================] - 72s 10s/step - loss: 1.3863 - accuracy: 0.3916 - val_loss: 1.4562 - val_accuracy: 0.3427\n",
            "Epoch 11/20\n",
            "7/7 [==============================] - 76s 11s/step - loss: 1.3386 - accuracy: 0.4303 - val_loss: 1.4288 - val_accuracy: 0.3798\n",
            "Epoch 12/20\n",
            "7/7 [==============================] - 74s 11s/step - loss: 1.3192 - accuracy: 0.4272 - val_loss: 1.3232 - val_accuracy: 0.4207\n",
            "Epoch 13/20\n",
            "7/7 [==============================] - 73s 10s/step - loss: 1.3182 - accuracy: 0.4394 - val_loss: 1.3301 - val_accuracy: 0.4220\n",
            "Epoch 14/20\n",
            "7/7 [==============================] - 74s 11s/step - loss: 1.3143 - accuracy: 0.4377 - val_loss: 1.4586 - val_accuracy: 0.3593\n",
            "Epoch 15/20\n",
            "7/7 [==============================] - 73s 10s/step - loss: 1.2915 - accuracy: 0.4531 - val_loss: 1.3477 - val_accuracy: 0.4092\n",
            "Epoch 16/20\n",
            "7/7 [==============================] - 74s 11s/step - loss: 1.2511 - accuracy: 0.4616 - val_loss: 1.3895 - val_accuracy: 0.3836\n",
            "Epoch 17/20\n",
            "7/7 [==============================] - 73s 10s/step - loss: 1.2403 - accuracy: 0.4695 - val_loss: 1.3569 - val_accuracy: 0.4143\n",
            "Epoch 18/20\n",
            "7/7 [==============================] - 73s 10s/step - loss: 1.2188 - accuracy: 0.4850 - val_loss: 1.2594 - val_accuracy: 0.4540\n",
            "Epoch 19/20\n",
            "7/7 [==============================] - 79s 11s/step - loss: 1.1923 - accuracy: 0.4940 - val_loss: 1.3590 - val_accuracy: 0.4105\n",
            "Epoch 20/20\n",
            "7/7 [==============================] - 73s 10s/step - loss: 1.2155 - accuracy: 0.4815 - val_loss: 1.4077 - val_accuracy: 0.4130\n"
          ],
          "name": "stdout"
        },
        {
          "output_type": "execute_result",
          "data": {
            "text/plain": [
              "<keras.callbacks.History at 0x7fd0213a63d0>"
            ]
          },
          "metadata": {
            "tags": []
          },
          "execution_count": 139
        }
      ]
    },
    {
      "cell_type": "code",
      "metadata": {
        "id": "_VpRHtFGMnVh"
      },
      "source": [
        "preds = model_c.predict(xvalid_pad)"
      ],
      "execution_count": null,
      "outputs": []
    },
    {
      "cell_type": "code",
      "metadata": {
        "colab": {
          "base_uri": "https://localhost:8080/",
          "height": 54
        },
        "id": "XJjArWiMFL5K",
        "outputId": "191df481-e77f-4ccd-9746-a774eee92672"
      },
      "source": [
        "score = model_c.evaluate(xvalid_pad, y_test,\n",
        "                       batch_size=256, verbose=1)\n",
        "f'Test accuracy:{score[1]}'"
      ],
      "execution_count": null,
      "outputs": [
        {
          "output_type": "stream",
          "text": [
            "8/8 [==============================] - 9s 1s/step - loss: 1.3449 - accuracy: 0.4419\n"
          ],
          "name": "stdout"
        },
        {
          "output_type": "execute_result",
          "data": {
            "application/vnd.google.colaboratory.intrinsic+json": {
              "type": "string"
            },
            "text/plain": [
              "'Test accuracy:0.44188427925109863'"
            ]
          },
          "metadata": {
            "tags": []
          },
          "execution_count": 155
        }
      ]
    },
    {
      "cell_type": "code",
      "metadata": {
        "colab": {
          "base_uri": "https://localhost:8080/"
        },
        "id": "lYlCMy3PEjP3",
        "outputId": "ee8567f3-f8d5-485c-bdbb-2e76e6fefcd9"
      },
      "source": [
        "print(classification_report(np.argmax(y_test,axis=1),np.argmax(preds,axis=1)))"
      ],
      "execution_count": null,
      "outputs": [
        {
          "output_type": "stream",
          "text": [
            "              precision    recall  f1-score   support\n",
            "\n",
            "           0       0.38      0.57      0.45       325\n",
            "           1       0.38      0.80      0.51       407\n",
            "           2       0.61      0.47      0.53       530\n",
            "           3       0.81      0.26      0.39       203\n",
            "           4       0.41      0.11      0.17       488\n",
            "\n",
            "    accuracy                           0.44      1953\n",
            "   macro avg       0.52      0.44      0.41      1953\n",
            "weighted avg       0.49      0.44      0.41      1953\n",
            "\n"
          ],
          "name": "stdout"
        }
      ]
    },
    {
      "cell_type": "markdown",
      "metadata": {
        "id": "i7f-NJJMLKd1"
      },
      "source": [
        "Дообучим старую модель с новой токенизацией признака-текста"
      ]
    },
    {
      "cell_type": "code",
      "metadata": {
        "colab": {
          "base_uri": "https://localhost:8080/"
        },
        "id": "QOQt_t7ZGE8s",
        "outputId": "1a7ad705-9730-4706-a1bc-8ab6456ef34c"
      },
      "source": [
        "model.fit(xtrain_pad, y_train,\n",
        "                    batch_size=1024,\n",
        "                    epochs=20,\n",
        "                    verbose=1,\n",
        "                    validation_split=0.1)"
      ],
      "execution_count": null,
      "outputs": [
        {
          "output_type": "stream",
          "text": [
            "Epoch 1/20\n",
            "WARNING:tensorflow:Model was constructed with shape (None, 50) for input KerasTensor(type_spec=TensorSpec(shape=(None, 50), dtype=tf.float32, name='embedding_input'), name='embedding_input', description=\"created by layer 'embedding_input'\"), but it was called on an input with incompatible shape (None, 1500).\n",
            "7/7 [==============================] - ETA: 0s - loss: 2.4433 - accuracy: 0.2107 WARNING:tensorflow:Model was constructed with shape (None, 50) for input KerasTensor(type_spec=TensorSpec(shape=(None, 50), dtype=tf.float32, name='embedding_input'), name='embedding_input', description=\"created by layer 'embedding_input'\"), but it was called on an input with incompatible shape (None, 1500).\n",
            "7/7 [==============================] - 175s 18s/step - loss: 2.4433 - accuracy: 0.2107 - val_loss: 1.6775 - val_accuracy: 0.2263\n",
            "Epoch 2/20\n",
            "7/7 [==============================] - 130s 19s/step - loss: 1.5032 - accuracy: 0.3218 - val_loss: 1.5187 - val_accuracy: 0.3005\n",
            "Epoch 3/20\n",
            "7/7 [==============================] - 130s 19s/step - loss: 1.3325 - accuracy: 0.4092 - val_loss: 1.4041 - val_accuracy: 0.3619\n",
            "Epoch 4/20\n",
            "7/7 [==============================] - 133s 19s/step - loss: 1.2060 - accuracy: 0.4772 - val_loss: 1.3648 - val_accuracy: 0.3951\n",
            "Epoch 5/20\n",
            "7/7 [==============================] - 128s 18s/step - loss: 1.0844 - accuracy: 0.5521 - val_loss: 1.3330 - val_accuracy: 0.4054\n",
            "Epoch 6/20\n",
            "7/7 [==============================] - 128s 18s/step - loss: 0.9578 - accuracy: 0.5992 - val_loss: 1.3067 - val_accuracy: 0.4412\n",
            "Epoch 7/20\n",
            "7/7 [==============================] - 128s 18s/step - loss: 0.8191 - accuracy: 0.6765 - val_loss: 1.2999 - val_accuracy: 0.4271\n",
            "Epoch 8/20\n",
            "7/7 [==============================] - 133s 19s/step - loss: 0.6838 - accuracy: 0.7469 - val_loss: 1.3427 - val_accuracy: 0.4361\n",
            "Epoch 9/20\n",
            "7/7 [==============================] - 130s 19s/step - loss: 0.5548 - accuracy: 0.8136 - val_loss: 1.3703 - val_accuracy: 0.4399\n",
            "Epoch 10/20\n",
            "7/7 [==============================] - 128s 18s/step - loss: 0.4393 - accuracy: 0.8712 - val_loss: 1.4454 - val_accuracy: 0.4450\n",
            "Epoch 11/20\n",
            "7/7 [==============================] - 131s 19s/step - loss: 0.3460 - accuracy: 0.9023 - val_loss: 1.5019 - val_accuracy: 0.4412\n",
            "Epoch 12/20\n",
            "7/7 [==============================] - 129s 18s/step - loss: 0.2724 - accuracy: 0.9209 - val_loss: 1.5537 - val_accuracy: 0.4373\n",
            "Epoch 13/20\n",
            "7/7 [==============================] - 133s 19s/step - loss: 0.2164 - accuracy: 0.9350 - val_loss: 1.7210 - val_accuracy: 0.4527\n",
            "Epoch 14/20\n",
            "7/7 [==============================] - 128s 18s/step - loss: 0.1868 - accuracy: 0.9368 - val_loss: 1.7536 - val_accuracy: 0.4207\n",
            "Epoch 15/20\n",
            "7/7 [==============================] - 128s 18s/step - loss: 0.1503 - accuracy: 0.9459 - val_loss: 1.8007 - val_accuracy: 0.4335\n",
            "Epoch 16/20\n",
            "7/7 [==============================] - 130s 19s/step - loss: 0.1390 - accuracy: 0.9474 - val_loss: 1.9336 - val_accuracy: 0.4335\n",
            "Epoch 17/20\n",
            "7/7 [==============================] - 130s 19s/step - loss: 0.1290 - accuracy: 0.9484 - val_loss: 1.8854 - val_accuracy: 0.4297\n",
            "Epoch 18/20\n",
            "7/7 [==============================] - 133s 19s/step - loss: 0.1155 - accuracy: 0.9529 - val_loss: 1.9698 - val_accuracy: 0.4105\n",
            "Epoch 19/20\n",
            "7/7 [==============================] - 127s 18s/step - loss: 0.1098 - accuracy: 0.9552 - val_loss: 2.0053 - val_accuracy: 0.4182\n",
            "Epoch 20/20\n",
            "7/7 [==============================] - 126s 18s/step - loss: 0.1046 - accuracy: 0.9531 - val_loss: 2.0136 - val_accuracy: 0.4335\n"
          ],
          "name": "stdout"
        },
        {
          "output_type": "execute_result",
          "data": {
            "text/plain": [
              "<keras.callbacks.History at 0x7fd01fae7d50>"
            ]
          },
          "metadata": {
            "tags": []
          },
          "execution_count": 156
        }
      ]
    },
    {
      "cell_type": "markdown",
      "metadata": {
        "id": "pk-Qkj9pPQEn"
      },
      "source": [
        "По метрикам на трейне и тесте можно понять, что модель переобучилась"
      ]
    },
    {
      "cell_type": "code",
      "metadata": {
        "colab": {
          "base_uri": "https://localhost:8080/",
          "height": 54
        },
        "id": "7WDsOjOeMSbn",
        "outputId": "5f97cc5a-09ad-4da7-a39e-06f8fcc9218f"
      },
      "source": [
        "score = model.evaluate(xvalid_pad, y_test,\n",
        "                       batch_size=256, verbose=1)\n",
        "f'Test accuracy:{score[1]}'"
      ],
      "execution_count": null,
      "outputs": [
        {
          "output_type": "stream",
          "text": [
            "8/8 [==============================] - 11s 1s/step - loss: 2.2427 - accuracy: 0.4286\n"
          ],
          "name": "stdout"
        },
        {
          "output_type": "execute_result",
          "data": {
            "application/vnd.google.colaboratory.intrinsic+json": {
              "type": "string"
            },
            "text/plain": [
              "'Test accuracy:0.4285714328289032'"
            ]
          },
          "metadata": {
            "tags": []
          },
          "execution_count": 157
        }
      ]
    },
    {
      "cell_type": "code",
      "metadata": {
        "colab": {
          "base_uri": "https://localhost:8080/"
        },
        "id": "l8Wg6oJBMy-p",
        "outputId": "f92b0679-bf39-4feb-900e-4785d63c0aff"
      },
      "source": [
        "preds = model.predict(xvalid_pad)"
      ],
      "execution_count": null,
      "outputs": [
        {
          "output_type": "stream",
          "text": [
            "WARNING:tensorflow:Model was constructed with shape (None, 50) for input KerasTensor(type_spec=TensorSpec(shape=(None, 50), dtype=tf.float32, name='embedding_input'), name='embedding_input', description=\"created by layer 'embedding_input'\"), but it was called on an input with incompatible shape (None, 1500).\n"
          ],
          "name": "stdout"
        }
      ]
    },
    {
      "cell_type": "markdown",
      "metadata": {
        "id": "0creGcYpPYzF"
      },
      "source": [
        "Метрики немного снизились"
      ]
    },
    {
      "cell_type": "code",
      "metadata": {
        "colab": {
          "base_uri": "https://localhost:8080/"
        },
        "id": "3JhofYbaMUNk",
        "outputId": "2a498523-34d6-4aeb-a152-038bbebef555"
      },
      "source": [
        "print(classification_report(np.argmax(y_test,axis=1),np.argmax(preds,axis=1)))"
      ],
      "execution_count": null,
      "outputs": [
        {
          "output_type": "stream",
          "text": [
            "              precision    recall  f1-score   support\n",
            "\n",
            "           0       0.35      0.45      0.39       325\n",
            "           1       0.45      0.39      0.42       407\n",
            "           2       0.50      0.41      0.45       530\n",
            "           3       0.56      0.61      0.58       203\n",
            "           4       0.37      0.39      0.38       488\n",
            "\n",
            "    accuracy                           0.43      1953\n",
            "   macro avg       0.44      0.45      0.44      1953\n",
            "weighted avg       0.44      0.43      0.43      1953\n",
            "\n"
          ],
          "name": "stdout"
        }
      ]
    },
    {
      "cell_type": "markdown",
      "metadata": {
        "id": "JaR5dOC56oQ2"
      },
      "source": [
        "# Выводы"
      ]
    },
    {
      "cell_type": "markdown",
      "metadata": {
        "id": "gcdYpPHB6svq"
      },
      "source": [
        "## Модели"
      ]
    },
    {
      "cell_type": "markdown",
      "metadata": {
        "id": "-Afjoxux60Qs"
      },
      "source": [
        "Лучшие результаты показала относительно простая модель логистической регрессии, модель LSTM а также LSTM с предобученными эмбеддингами показали результаты ниже по любым метрикам.\n",
        "\n",
        "\n",
        "Тем не менее, даже лучшая модель LOG REG показывает метрику f1-score ниже 0.7, что является далеко не лучшим показателем. **Вполне вероятно, что на практике будет целесообразно объединить некоторые классы, которые модель плохо различает (видно в матрице ошибок)**"
      ]
    },
    {
      "cell_type": "markdown",
      "metadata": {
        "id": "ih0gBJv26uqW"
      },
      "source": [
        "## Область Применения"
      ]
    },
    {
      "cell_type": "markdown",
      "metadata": {
        "id": "IzsvYYgA6z0C"
      },
      "source": [
        "Модель может применяться для классификации обращений в техническую поддержку с какими-либо вопросами и сложностями клиентов. Модель может предсказать вид услуг по тексту отзыва и сразу передать обращение нужному сотруднику, повысив КПД техподдержки.\n",
        "\n",
        "Также, по имеющимся данным можно построить модель предсказания оценки, которую поставит пользователь по тексту его отзыва. Так можно отделять негативные упоминания банка в социальных сетях и оперативно реагировать на них. В автоматическом режиме, в виде 'уточните вашу проблему в личном сообщении'. Даже такое простое применение алгоритма может повысить лояльность всех тех, кто увидит сообщение в соц. сети."
      ]
    }
  ]
}